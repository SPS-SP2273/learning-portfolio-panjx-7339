{
 "cells": [
  {
   "attachments": {},
   "cell_type": "markdown",
   "id": "123456",
   "metadata": {},
   "source": [
    "<div style=\"text-align:left;font-size:2em\"><span style=\"font-weight:bolder;font-size:1.25em\">SP2273 | Learning Portfolio</span><br><br><span style=\"font-weight:bold;color:darkred\">Fundamentals (Good)</span></div>"
   ]
  },
  {
   "attachments": {},
   "cell_type": "markdown",
   "id": "eb4137ec",
   "metadata": {},
   "source": [
    "# What to expect in this chapter"
   ]
  },
  {
   "attachments": {},
   "cell_type": "markdown",
   "id": "d416f65f",
   "metadata": {},
   "source": [
    "# 1 There is more to if"
   ]
  },
  {
   "cell_type": "code",
   "execution_count": 2,
   "id": "7be98577",
   "metadata": {},
   "outputs": [
    {
     "name": "stdout",
     "output_type": "stream",
     "text": [
      "Hello Batman!\n"
     ]
    }
   ],
   "source": [
    "name = 'Batman'\n",
    "if name == 'Batman':\n",
    "    print('Hello Batman!')\n",
    "elif name == 'Robin':  # elif stands for else if\n",
    "    print('Hello Sidekick!')\n",
    "else:\n",
    "    print('Hello World!')"
   ]
  },
  {
   "attachments": {},
   "cell_type": "markdown",
   "id": "83412fa1",
   "metadata": {},
   "source": [
    "# 2 Asking questions"
   ]
  },
  {
   "cell_type": "code",
   "execution_count": 3,
   "id": "800cda5f",
   "metadata": {},
   "outputs": [],
   "source": [
    "fruits = ['apple', 'banana', 'pineapple', 'jackfruit']\n",
    "vegetables = ['celery', 'potato', 'broccoli', 'kale']\n"
   ]
  },
  {
   "cell_type": "code",
   "execution_count": 4,
   "id": "068cf60b",
   "metadata": {},
   "outputs": [
    {
     "data": {
      "text/plain": [
       "True"
      ]
     },
     "execution_count": 4,
     "metadata": {},
     "output_type": "execute_result"
    }
   ],
   "source": [
    "'apple' in fruits  # is 'apple' in fruits?"
   ]
  },
  {
   "cell_type": "code",
   "execution_count": 43,
   "id": "23c5841e",
   "metadata": {},
   "outputs": [
    {
     "data": {
      "text/plain": [
       "False"
      ]
     },
     "execution_count": 43,
     "metadata": {},
     "output_type": "execute_result"
    }
   ],
   "source": [
    "'peach' in fruits  # is 'peach' in fruits?"
   ]
  },
  {
   "cell_type": "code",
   "execution_count": 6,
   "id": "d0b270e2",
   "metadata": {},
   "outputs": [
    {
     "data": {
      "text/plain": [
       "True"
      ]
     },
     "execution_count": 6,
     "metadata": {},
     "output_type": "execute_result"
    }
   ],
   "source": [
    "'peach' not in fruits # Is ‘peach’ not in the list fruits?"
   ]
  },
  {
   "cell_type": "code",
   "execution_count": 7,
   "id": "7114f8a4",
   "metadata": {},
   "outputs": [
    {
     "data": {
      "text/plain": [
       "True"
      ]
     },
     "execution_count": 7,
     "metadata": {},
     "output_type": "execute_result"
    }
   ],
   "source": [
    "('apple' in fruits) and ('celery' in vegetables)  # Is ‘apple’ in the list fruits and is ‘celery’ in the list vegetables?"
   ]
  },
  {
   "cell_type": "code",
   "execution_count": 42,
   "id": "e3530ddc",
   "metadata": {},
   "outputs": [
    {
     "data": {
      "text/plain": [
       "True"
      ]
     },
     "execution_count": 42,
     "metadata": {},
     "output_type": "execute_result"
    }
   ],
   "source": [
    "('apple' in fruits) or ('celery' in vegetables)  # Is ‘apple’ in the list fruits or is ‘celery’ in the list vegetables?# "
   ]
  },
  {
   "cell_type": "code",
   "execution_count": 9,
   "id": "9157bd6c",
   "metadata": {},
   "outputs": [
    {
     "data": {
      "text/plain": [
       "True"
      ]
     },
     "execution_count": 9,
     "metadata": {},
     "output_type": "execute_result"
    }
   ],
   "source": [
    "'app' in 'apple'  # Is ‘app’ in ‘apple’?"
   ]
  },
  {
   "attachments": {},
   "cell_type": "markdown",
   "id": "4a3976d7",
   "metadata": {},
   "source": [
    "# 3 Remember"
   ]
  },
  {
   "cell_type": "markdown",
   "id": "66fbaf4f-d35e-4955-bd3d-02003240b9ae",
   "metadata": {},
   "source": [
    "`not`, `in`, `and`, `or` are some Python keywords that are useful in asking questions."
   ]
  },
  {
   "cell_type": "code",
   "execution_count": null,
   "id": "99943c04-6ca1-44ae-95cb-84417fa01067",
   "metadata": {},
   "outputs": [],
   "source": [
    "'apples' > 'oranges' # strings compared lexicographically"
   ]
  },
  {
   "cell_type": "code",
   "execution_count": null,
   "id": "2f1a2b11-fae2-4aa8-a619-a82f122bc09b",
   "metadata": {},
   "outputs": [],
   "source": [
    "'bad apple' > 'bad'   # strings compared in terms of length\n"
   ]
  },
  {
   "attachments": {},
   "cell_type": "markdown",
   "id": "548078de",
   "metadata": {},
   "source": [
    "## 3.1 Asking Math questions"
   ]
  },
  {
   "cell_type": "markdown",
   "id": "4581b25b-ee61-4d48-a6c6-ef244cd9133b",
   "metadata": {},
   "source": [
    "Refer to this table for some math and python symbols, that may be useful in asking mathematical questions:\n",
    "\n",
    "| Question/Condition     | Math Symbol | Python Symbols |\n",
    "|------------------------|:-----------:|:--------------:|\n",
    "| Equals?                |      =      |       ==       |\n",
    "| Not equal?             |      ≠      |       !=       |\n",
    "| Less than?             |      <      |        <       |\n",
    "| Greater than?          |      >      |        >       |\n",
    "| Less than or equal?    |      ≤      |       <=       |\n",
    "| Greater than or equal? |      ≥      |       >=       |\n"
   ]
  },
  {
   "cell_type": "code",
   "execution_count": 12,
   "id": "72ad6cfb",
   "metadata": {},
   "outputs": [],
   "source": [
    "x = 10"
   ]
  },
  {
   "cell_type": "code",
   "execution_count": 45,
   "id": "0e41b96e-38fa-46f6-b8ee-89785cba7e30",
   "metadata": {},
   "outputs": [],
   "source": [
    "# The below syntax are equivalent, and all accepted"
   ]
  },
  {
   "cell_type": "code",
   "execution_count": 13,
   "id": "bfea2672",
   "metadata": {},
   "outputs": [
    {
     "data": {
      "text/plain": [
       "True"
      ]
     },
     "execution_count": 13,
     "metadata": {},
     "output_type": "execute_result"
    }
   ],
   "source": [
    "x > 5 and x < 15"
   ]
  },
  {
   "cell_type": "code",
   "execution_count": 14,
   "id": "2a018fd7",
   "metadata": {},
   "outputs": [
    {
     "data": {
      "text/plain": [
       "True"
      ]
     },
     "execution_count": 14,
     "metadata": {},
     "output_type": "execute_result"
    }
   ],
   "source": [
    "(x > 5) and (x < 15)"
   ]
  },
  {
   "cell_type": "code",
   "execution_count": 15,
   "id": "0f521c32",
   "metadata": {},
   "outputs": [
    {
     "data": {
      "text/plain": [
       "True"
      ]
     },
     "execution_count": 15,
     "metadata": {},
     "output_type": "execute_result"
    }
   ],
   "source": [
    "5 < x < 15"
   ]
  },
  {
   "attachments": {},
   "cell_type": "markdown",
   "id": "868d1441",
   "metadata": {},
   "source": [
    "# 4 Python stores information in different formats or types"
   ]
  },
  {
   "cell_type": "markdown",
   "id": "f5681940-757a-4454-b5ce-43985b2e779b",
   "metadata": {},
   "source": [
    "4 ways to store the number `1.234`:"
   ]
  },
  {
   "cell_type": "code",
   "execution_count": 46,
   "id": "28066b03",
   "metadata": {},
   "outputs": [
    {
     "name": "stdout",
     "output_type": "stream",
     "text": [
      "1 <class 'int'>\n"
     ]
    }
   ],
   "source": [
    "#as integer\n",
    "x = int(1.234)\n",
    "print(x, type(x))  # type() asks Python how it is storing the information"
   ]
  },
  {
   "cell_type": "code",
   "execution_count": 17,
   "id": "32f786a4",
   "metadata": {},
   "outputs": [
    {
     "name": "stdout",
     "output_type": "stream",
     "text": [
      "1.234 <class 'str'>\n"
     ]
    }
   ],
   "source": [
    "#as string\n",
    "x = str(1.234)\n",
    "print(x, type(x))"
   ]
  },
  {
   "cell_type": "code",
   "execution_count": 18,
   "id": "4325b261",
   "metadata": {},
   "outputs": [
    {
     "name": "stdout",
     "output_type": "stream",
     "text": [
      "1.234 <class 'float'>\n"
     ]
    }
   ],
   "source": [
    "# as a decimal (float)\n",
    "x = float(1.234)\n",
    "print(x, type(x))"
   ]
  },
  {
   "cell_type": "code",
   "execution_count": 19,
   "id": "4122414d",
   "metadata": {},
   "outputs": [
    {
     "name": "stdout",
     "output_type": "stream",
     "text": [
      "(1.234+0j) <class 'complex'>\n"
     ]
    }
   ],
   "source": [
    "# as a complex number\n",
    "x = complex(1.234)\n",
    "print(x, type(x)) #(1.234+0j) <class 'complex'>, includes the imaginary part"
   ]
  },
  {
   "cell_type": "code",
   "execution_count": 47,
   "id": "ba8e7fcf-7211-488d-a48d-e1b788c04687",
   "metadata": {},
   "outputs": [
    {
     "name": "stdout",
     "output_type": "stream",
     "text": [
      "1.234 <class 'str'>\n"
     ]
    }
   ],
   "source": [
    "x = '1.234'        # x is a string\n",
    "print(x, type(x))"
   ]
  },
  {
   "cell_type": "code",
   "execution_count": 48,
   "id": "f81d1e97-6622-4124-9b5e-418d359d9ab9",
   "metadata": {},
   "outputs": [
    {
     "name": "stdout",
     "output_type": "stream",
     "text": [
      "1.234 <class 'float'>\n"
     ]
    }
   ],
   "source": [
    "# To change the type of a variable, float(x) turns str x into a float\n",
    "# Called typecasting\n",
    "x = float(x)       # x is now a decimal number\n",
    "print(x, type(x))"
   ]
  },
  {
   "attachments": {},
   "cell_type": "markdown",
   "id": "91f1d39e",
   "metadata": {},
   "source": [
    "# 5 Never compare floats directly"
   ]
  },
  {
   "attachments": {},
   "cell_type": "markdown",
   "id": "02d5c48f",
   "metadata": {},
   "source": [
    "## 5.1 The Problem"
   ]
  },
  {
   "cell_type": "markdown",
   "id": "c675da05-dbec-478f-873c-8bd17fa725df",
   "metadata": {},
   "source": [
    "We often need to compare numbers, especially for scientific work. Unfortunately, since computers have finite (hardware) resources, floating point numbers cannot be exactly stored in a computer3. This leads to errors called roundoff errors. Let me demonstrate:"
   ]
  },
  {
   "cell_type": "code",
   "execution_count": 20,
   "id": "fc82cecb",
   "metadata": {},
   "outputs": [
    {
     "data": {
      "text/plain": [
       "False"
      ]
     },
     "execution_count": 20,
     "metadata": {},
     "output_type": "execute_result"
    }
   ],
   "source": [
    "a = 0.1\n",
    "a3 = 0.3\n",
    "a * 3 == a3 # False"
   ]
  },
  {
   "cell_type": "code",
   "execution_count": 21,
   "id": "2911d424",
   "metadata": {},
   "outputs": [
    {
     "data": {
      "text/plain": [
       "'0.29999999999999999'"
      ]
     },
     "execution_count": 21,
     "metadata": {},
     "output_type": "execute_result"
    }
   ],
   "source": [
    "f'{0.3:.17f}'"
   ]
  },
  {
   "attachments": {},
   "cell_type": "markdown",
   "id": "e1ca48f4",
   "metadata": {},
   "source": [
    "## 5.2 A solution"
   ]
  },
  {
   "cell_type": "markdown",
   "id": "a2e4d713-5ebd-4852-9db6-c870751447c7",
   "metadata": {},
   "source": [
    "To circumvent this issue, should instead check if the variable is **close** to the expected values instead of checking for equality"
   ]
  },
  {
   "cell_type": "code",
   "execution_count": 41,
   "id": "97562b27",
   "metadata": {},
   "outputs": [
    {
     "data": {
      "text/plain": [
       "True"
      ]
     },
     "execution_count": 41,
     "metadata": {},
     "output_type": "execute_result"
    }
   ],
   "source": [
    "eps = 1E-10 # represents 1 * 10 ** -10\n",
    "abs(a * 3 - a3) < eps # testing if difference between 0.1 * 3 and 3 is negligible"
   ]
  },
  {
   "cell_type": "code",
   "execution_count": 23,
   "id": "2086b3a7",
   "metadata": {},
   "outputs": [
    {
     "data": {
      "text/plain": [
       "True"
      ]
     },
     "execution_count": 23,
     "metadata": {},
     "output_type": "execute_result"
    }
   ],
   "source": [
    "import numpy as np\n",
    "np.isclose(a * 3, a3)"
   ]
  },
  {
   "attachments": {},
   "cell_type": "markdown",
   "id": "9ff59ee3",
   "metadata": {},
   "source": [
    "# 6 Combining English and variables"
   ]
  },
  {
   "cell_type": "code",
   "execution_count": 24,
   "id": "5a67221d",
   "metadata": {},
   "outputs": [
    {
     "name": "stdout",
     "output_type": "stream",
     "text": [
      "Hello Batman!\n"
     ]
    }
   ],
   "source": [
    "name = \"Batman\"\n",
    "print(f\"Hello {name}!\")  # this is an f string."
   ]
  },
  {
   "cell_type": "code",
   "execution_count": 25,
   "id": "64bfe8ce",
   "metadata": {},
   "outputs": [
    {
     "name": "stdout",
     "output_type": "stream",
     "text": [
      "Hello BATMAN!\n"
     ]
    }
   ],
   "source": [
    "name = \"Batman\"\n",
    "print(f\"Hello {name.upper()}!\")"
   ]
  },
  {
   "cell_type": "code",
   "execution_count": 26,
   "id": "f43bad4b",
   "metadata": {},
   "outputs": [
    {
     "name": "stdout",
     "output_type": "stream",
     "text": [
      "The value of 10 squared is 100!\n"
     ]
    }
   ],
   "source": [
    "x = 10\n",
    "print(f\"The value of {x} squared is {x**2}!\")"
   ]
  },
  {
   "cell_type": "code",
   "execution_count": 27,
   "id": "69afe42c",
   "metadata": {},
   "outputs": [
    {
     "name": "stdout",
     "output_type": "stream",
     "text": [
      "Bruce Wayne is Batman.\n"
     ]
    }
   ],
   "source": [
    "text = 'Bruce Wayne is Batman.'\n",
    "print(f'{text}')"
   ]
  },
  {
   "cell_type": "code",
   "execution_count": 28,
   "id": "7a30e30f",
   "metadata": {},
   "outputs": [
    {
     "data": {
      "text/plain": [
       "22"
      ]
     },
     "execution_count": 28,
     "metadata": {},
     "output_type": "execute_result"
    }
   ],
   "source": [
    "len(text)"
   ]
  },
  {
   "cell_type": "code",
   "execution_count": 29,
   "id": "7c0fd74f",
   "metadata": {},
   "outputs": [
    {
     "name": "stdout",
     "output_type": "stream",
     "text": [
      "        Bruce Wayne is Batman.\n"
     ]
    }
   ],
   "source": [
    "print(f'{text:>30}')      # aligns text to the left\n",
    "                          # in a block of 30 characters"
   ]
  },
  {
   "cell_type": "code",
   "execution_count": 30,
   "id": "350c6069",
   "metadata": {},
   "outputs": [
    {
     "name": "stdout",
     "output_type": "stream",
     "text": [
      "    Bruce Wayne is Batman.    \n"
     ]
    }
   ],
   "source": [
    "print(f'{text:^30}')      # A block of 30 characters;\n",
    "                          # aligned centre"
   ]
  },
  {
   "cell_type": "code",
   "execution_count": 31,
   "id": "924b1f7c",
   "metadata": {},
   "outputs": [
    {
     "name": "stdout",
     "output_type": "stream",
     "text": [
      "Bruce Wayne is Batman.        \n"
     ]
    }
   ],
   "source": [
    "print(f'{text:<30}')      # A block of 30 characters;\n",
    "                          # aligned left"
   ]
  },
  {
   "attachments": {},
   "cell_type": "markdown",
   "id": "d5045e50",
   "metadata": {},
   "source": [
    "## 6.1 Structure of f-strings"
   ]
  },
  {
   "cell_type": "markdown",
   "id": "1a76439b",
   "metadata": {},
   "source": [
    "f-string formatting has the structure `{X:>0Y.ZW}`. Here is more information about the letters X, Y, >, 0, Z and W."
   ]
  },
  {
   "cell_type": "markdown",
   "id": "694c02c5",
   "metadata": {},
   "source": [
    "| **Letter** | **Action**                      | **Possible Options**                                              |\n",
    "|------------|---------------------------------|-------------------------------------------------------------------|\n",
    "| X          | Variable to format              | Can be a number or a string                                       |\n",
    "| Y          | Alignment                       | < (Left justified) > (Right justified) ^ (Centre justified) |\n",
    "| >          | Use 0’s to pad the spaces       | You can use other characters like a space .                       |\n",
    "| 0          |  Total number of characters     |                                                                   |\n",
    "| Z          | Number of decimal places        |                                                                   |\n",
    "| W          | Specifies the type of variable. | f (float) d (integer) s (string) g (Asks Python to figure out)    |"
   ]
  },
  {
   "cell_type": "code",
   "execution_count": 32,
   "id": "dc00a563",
   "metadata": {},
   "outputs": [
    {
     "name": "stdout",
     "output_type": "stream",
     "text": [
      "0.12\n"
     ]
    }
   ],
   "source": [
    "num = 0.123\n",
    "print(f'{num:.2f}')"
   ]
  },
  {
   "attachments": {},
   "cell_type": "markdown",
   "id": "2695cf1a",
   "metadata": {},
   "source": [
    "# 7 Escape sequences"
   ]
  },
  {
   "cell_type": "markdown",
   "id": "24b9aa30",
   "metadata": {},
   "source": [
    "- \\’ --> single quote\n",
    "- \\\\ --> backslah\n",
    "- \\n --> newline\n",
    "- \\t --> horizontal tab"
   ]
  },
  {
   "cell_type": "code",
   "execution_count": 33,
   "id": "f6733ce5",
   "metadata": {},
   "outputs": [
    {
     "name": "stdout",
     "output_type": "stream",
     "text": [
      "Line 1\n",
      "\tLine 2\n",
      "\t\tLine 3\n"
     ]
    }
   ],
   "source": [
    "print('Line 1\\n\\tLine 2\\n\\t\\tLine 3')"
   ]
  },
  {
   "cell_type": "code",
   "execution_count": 34,
   "id": "92879154",
   "metadata": {},
   "outputs": [
    {
     "name": "stdout",
     "output_type": "stream",
     "text": [
      "You're twenty years old.\n",
      "A\\B\\C\n"
     ]
    }
   ],
   "source": [
    "print('You\\'re twenty years old.') \n",
    "print('A\\\\B\\\\C')"
   ]
  },
  {
   "cell_type": "code",
   "execution_count": 35,
   "id": "1d33cf79",
   "metadata": {},
   "outputs": [
    {
     "name": "stdout",
     "output_type": "stream",
     "text": [
      "A\n",
      "B\n",
      "C\n"
     ]
    }
   ],
   "source": [
    "print('A\\nB\\nC')"
   ]
  },
  {
   "cell_type": "code",
   "execution_count": 36,
   "id": "4a014a41",
   "metadata": {},
   "outputs": [
    {
     "name": "stdout",
     "output_type": "stream",
     "text": [
      "A\tB\tC\n"
     ]
    }
   ],
   "source": [
    "print('A\\tB\\tC')"
   ]
  },
  {
   "attachments": {},
   "cell_type": "markdown",
   "id": "5b8ed39e",
   "metadata": {},
   "source": [
    "# 8 Computers read = from Right to Left!"
   ]
  },
  {
   "cell_type": "code",
   "execution_count": 49,
   "id": "443caa77-c621-46ad-9dd3-0ab208f47249",
   "metadata": {},
   "outputs": [],
   "source": [
    "x = 40\n",
    "y = x + 2"
   ]
  },
  {
   "cell_type": "code",
   "execution_count": 50,
   "id": "2116b39b",
   "metadata": {},
   "outputs": [
    {
     "name": "stdout",
     "output_type": "stream",
     "text": [
      "42\n"
     ]
    }
   ],
   "source": [
    "# This works in programming\n",
    "y = 40\n",
    "y = y + 2\n",
    "print(y)       # 42"
   ]
  },
  {
   "cell_type": "code",
   "execution_count": 51,
   "id": "4cb60d4d",
   "metadata": {},
   "outputs": [
    {
     "name": "stdout",
     "output_type": "stream",
     "text": [
      "x: 10, y: 10\n"
     ]
    }
   ],
   "source": [
    "# Python also allows this syntax\n",
    "x = y = 10\n",
    "print(f'x: {x}, y: {y}')"
   ]
  },
  {
   "attachments": {},
   "cell_type": "markdown",
   "id": "06203869",
   "metadata": {},
   "source": [
    "# 9 Shorter and Cleaner Code"
   ]
  },
  {
   "cell_type": "code",
   "execution_count": 39,
   "id": "8f4bdd4c",
   "metadata": {},
   "outputs": [
    {
     "data": {
      "text/plain": [
       "42"
      ]
     },
     "execution_count": 39,
     "metadata": {},
     "output_type": "execute_result"
    }
   ],
   "source": [
    "y = 40\n",
    "y += 2    # Same as y = y + 2\n",
    "y"
   ]
  },
  {
   "cell_type": "markdown",
   "id": "70e04738-8eaa-4cf6-bcd6-c4c094b57fa3",
   "metadata": {},
   "source": [
    "|                | Longform | Shorthand |\n",
    "|:--------------:|:--------:|-----------|\n",
    "| Addition       |  y = y+2 |   y += 2  |\n",
    "| Subtraction    |  y = y-2 |   y -= 2  |\n",
    "| Multiplication |  y = y*2 |   y *= 2  |\n",
    "| Division       |  y = y/2 |   y /= 2  |"
   ]
  },
  {
   "attachments": {},
   "cell_type": "markdown",
   "id": "5b5837f6",
   "metadata": {},
   "source": [
    "# 10 Python can be a prima-donna."
   ]
  },
  {
   "cell_type": "markdown",
   "id": "8d5fc40f-6469-43bf-91b3-f49f1cb5e0ca",
   "metadata": {},
   "source": [
    "When we do something Python doesn’t like or understand, it will often act like a prima-donna and throw a complaint with a looong error message. As with most complaints, scroll to the end to see the real problem.\n",
    "\n",
    "If you had used Print() in the previous chapter, you would have already seen an error message. Fixing coding errors is called debugging. Most programmers spend a long time debugging. Further, the more debugging you do, the more comfortable you will be with thinking and programming. So, use every opportunity you have to practice debugging."
   ]
  },
  {
   "attachments": {},
   "cell_type": "markdown",
   "id": "5677dda8",
   "metadata": {},
   "source": [
    "# 11 Best Practices for Scientific Computing"
   ]
  },
  {
   "cell_type": "markdown",
   "id": "51b69716-ed7d-492c-ba38-c33e03543d8c",
   "metadata": {},
   "source": [
    "1. Write programs for people, not computers.\n",
    "2. Optimise software only after it works correctly.\n",
    "3. Document design and purpose, not mechanics.\n",
    "4. Collaborate."
   ]
  },
  {
   "attachments": {},
   "cell_type": "markdown",
   "id": "52dfefac",
   "metadata": {},
   "source": [
    "# 12 Looking for help"
   ]
  },
  {
   "cell_type": "code",
   "execution_count": 40,
   "id": "16da6abf",
   "metadata": {},
   "outputs": [
    {
     "name": "stdout",
     "output_type": "stream",
     "text": [
      "Help on built-in function print in module builtins:\n",
      "\n",
      "print(...)\n",
      "    print(value, ..., sep=' ', end='\\n', file=sys.stdout, flush=False)\n",
      "    \n",
      "    Prints the values to a stream, or to sys.stdout by default.\n",
      "    Optional keyword arguments:\n",
      "    file:  a file-like object (stream); defaults to the current sys.stdout.\n",
      "    sep:   string inserted between values, default a space.\n",
      "    end:   string appended after the last value, default a newline.\n",
      "    flush: whether to forcibly flush the stream.\n",
      "\n"
     ]
    }
   ],
   "source": [
    "help(print)"
   ]
  },
  {
   "attachments": {},
   "cell_type": "markdown",
   "id": "7393921b",
   "metadata": {},
   "source": [
    "## References"
   ]
  },
  {
   "attachments": {},
   "cell_type": "markdown",
   "id": "9f6a3480",
   "metadata": {},
   "source": [
    "## Footnotes"
   ]
  }
 ],
 "metadata": {
  "kernelspec": {
   "display_name": "Python 3 (ipykernel)",
   "language": "python",
   "name": "python3"
  },
  "language_info": {
   "codemirror_mode": {
    "name": "ipython",
    "version": 3
   },
   "file_extension": ".py",
   "mimetype": "text/x-python",
   "name": "python",
   "nbconvert_exporter": "python",
   "pygments_lexer": "ipython3",
   "version": "3.10.11"
  },
  "toc": {
   "base_numbering": 1,
   "nav_menu": {},
   "number_sections": true,
   "sideBar": true,
   "skip_h1_title": false,
   "title_cell": "Table of Contents",
   "title_sidebar": "Contents",
   "toc_cell": false,
   "toc_position": {},
   "toc_section_display": true,
   "toc_window_display": false
  },
  "vscode": {
   "interpreter": {
    "hash": "31f2aee4e71d21fbe5cf8b01ff0e069b9275f58929596ceb00d14d90e3e16cd6"
   }
  }
 },
 "nbformat": 4,
 "nbformat_minor": 5
}
