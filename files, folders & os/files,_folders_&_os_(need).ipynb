{
 "cells": [
  {
   "attachments": {},
   "cell_type": "markdown",
   "id": "123456",
   "metadata": {},
   "source": [
    "<div style=\"text-align:left;font-size:2em\"><span style=\"font-weight:bolder;font-size:1.25em\">SP2273 | Learning Portfolio</span><br><br><span style=\"font-weight:bold;color:darkred\">Files, Folders & OS (Need)</span></div>"
   ]
  },
  {
   "attachments": {},
   "cell_type": "markdown",
   "id": "ea885fcb",
   "metadata": {},
   "source": [
    "# What to expect in this chapter"
   ]
  },
  {
   "attachments": {},
   "cell_type": "markdown",
   "id": "a44e2856",
   "metadata": {},
   "source": [
    "# 1 Important concepts"
   ]
  },
  {
   "attachments": {},
   "cell_type": "markdown",
   "id": "f0b4c425",
   "metadata": {},
   "source": [
    "## 1.1 Path"
   ]
  },
  {
   "cell_type": "markdown",
   "id": "329bd0c7-128e-461d-bed7-2abad4ffce11",
   "metadata": {},
   "source": [
    "Remember that the path tells us how to find a file or folder and that you can specify it absolutely or relatively.\n",
    "<br>\n",
    "Example of an absolute path to a file on the Desktop:\n",
    "`C:\\\\Users\\Chammika\\Desktop\\data-01.txt`"
   ]
  },
  {
   "attachments": {},
   "cell_type": "markdown",
   "id": "e813557c",
   "metadata": {},
   "source": [
    "## 1.2 More about relative paths"
   ]
  },
  {
   "cell_type": "markdown",
   "id": "21ef369c-6948-443c-87d5-ced7995f0de7",
   "metadata": {},
   "source": [
    "| Notation |       Meaning      |\n",
    "|:--------:|:------------------:|\n",
    "|     .    |    ‘this folder’  (current directory) |\n",
    "|    ..    | ‘one folder above’ (parent directory) |"
   ]
  },
  {
   "cell_type": "markdown",
   "id": "ba3490a0-66fc-45b3-84f4-18e591606c38",
   "metadata": {},
   "source": [
    "./data-files/data-01.txt means the file data-01.txt in the folder data-files in the current folder.<br>\n",
    "../data-files/data-01.txt means the file data-01.txt in the folder data-files located in the folder above."
   ]
  },
  {
   "attachments": {},
   "cell_type": "markdown",
   "id": "585cc144",
   "metadata": {},
   "source": [
    "### macOS or Linux"
   ]
  },
  {
   "cell_type": "markdown",
   "id": "347ccb0f-ab96-4938-9d38-f8c919ab703d",
   "metadata": {},
   "source": [
    "~ refers to the home directory"
   ]
  },
  {
   "cell_type": "code",
   "execution_count": 5,
   "id": "daedc1d1",
   "metadata": {},
   "outputs": [],
   "source": [
    "\n",
    "# Your code here\n",
    "# ~/Desktop/data-01.txt\n",
    "PATH = '~/Desktop/Slime mould working.tif'\n"
   ]
  },
  {
   "attachments": {},
   "cell_type": "markdown",
   "id": "7f67b5e7",
   "metadata": {},
   "source": [
    "## 1.3 Path separator"
   ]
  },
  {
   "cell_type": "markdown",
   "id": "ec616b88-a4e4-445d-bc2d-496dcd534a42",
   "metadata": {},
   "source": [
    "Windows uses \\ as the path separator while macOS (or Linux) uses /.\n",
    "Thus, the absolute path to a file on Desktop on each of the system will look like this:\n",
    "<br>\n",
    "Windows: `C:\\\\Users\\chammika\\Desktop\\data-01.txt`\n",
    "macOS (or Linux): `/Users/chammika/Desktop/data-01.txt`"
   ]
  },
  {
   "attachments": {},
   "cell_type": "markdown",
   "id": "5780ae7b",
   "metadata": {},
   "source": [
    "## 1.4 Text files vs. Binary files"
   ]
  },
  {
   "cell_type": "markdown",
   "id": "94435021-4ee7-4308-ac20-6d7868266d63",
   "metadata": {},
   "source": [
    "Text files are simple and can be opened, and their contents examined by almost any software (e.g., Notepad, TextEdit, Jupiter,…). Examples of text file formats are .txt, .md or .csv.\n",
    "<br>\n",
    "Binary files, however, require some processing to make sense of what they contain. e.g. .png file, Excel.app, Excel.exe. Advantages of binary files include speed and size.   "
   ]
  },
  {
   "attachments": {},
   "cell_type": "markdown",
   "id": "c2b21864",
   "metadata": {},
   "source": [
    "## 1.5 Extensions"
   ]
  },
  {
   "cell_type": "markdown",
   "id": "6de68e9e-d925-446d-9588-f8f87d4b943d",
   "metadata": {},
   "source": [
    "Files are usually named to end with an extension separated from the name by a . like name.extension. This extension lets the OS know what software or app to use to extract the details in a file. \n",
    "- e.g. .xlsx -> Excel, .pptx -> Powerpoint"
   ]
  },
  {
   "cell_type": "markdown",
   "id": "59133391-81df-493a-bccb-f43e7d18dbd6",
   "metadata": {},
   "source": [
    "When changing a .xlsx file to a .txt file, what I saw was a bunch of gibberish words (with a combination of symbols and letters). "
   ]
  },
  {
   "attachments": {},
   "cell_type": "markdown",
   "id": "0992fe40",
   "metadata": {},
   "source": [
    "# 2 Opening and closing files"
   ]
  },
  {
   "attachments": {},
   "cell_type": "markdown",
   "id": "a128ffc4",
   "metadata": {},
   "source": [
    "## 2.1 Reading data"
   ]
  },
  {
   "cell_type": "code",
   "execution_count": 11,
   "id": "7da5ecc1-144f-411e-852e-240bbf09f4ab",
   "metadata": {},
   "outputs": [
    {
     "name": "stdout",
     "output_type": "stream",
     "text": [
      "This is the first line.\n"
     ]
    }
   ],
   "source": [
    "# Reading a text file\n",
    "## 'r' specifies the mode (read), open() is a function that opens the file\n",
    "## with eliminates the need to close the file after opening\n",
    "\n",
    "with open('myfile.txt', 'r') as file:\n",
    "    file_content = file.read()\n",
    "\n",
    "print(file_content)"
   ]
  },
  {
   "attachments": {},
   "cell_type": "markdown",
   "id": "89013969",
   "metadata": {},
   "source": [
    "## 2.2 Writing data"
   ]
  },
  {
   "attachments": {},
   "cell_type": "markdown",
   "id": "05d186c7",
   "metadata": {},
   "source": [
    "### Writing to a file in one go"
   ]
  },
  {
   "cell_type": "code",
   "execution_count": 15,
   "id": "16985cb4-23ae-4ccc-8c81-f163c70d7c4d",
   "metadata": {},
   "outputs": [],
   "source": [
    "text = 'Far out in the uncharted backwaters of the unfashionable end of the western spiral arm of the Galaxy lies a small unregarded yellow sun.\\nOrbiting this at a distance of roughly ninety-two million miles is an utterly insignificant little blue green planet whose ape-descended life forms are so amazingly primitive that they still think digital watches are a pretty neat idea.'"
   ]
  },
  {
   "cell_type": "code",
   "execution_count": 16,
   "id": "4e360769",
   "metadata": {},
   "outputs": [],
   "source": [
    "# 'w' indicates that I am opening the file for writing\n",
    "# creates a file named 'my-text-once' in the same directory!\n",
    "with open('my-text-once.txt', 'w') as file:\n",
    "    file.write(text)"
   ]
  },
  {
   "attachments": {},
   "cell_type": "markdown",
   "id": "ee0d4b42",
   "metadata": {},
   "source": [
    "### Writing to a file, line by line"
   ]
  },
  {
   "cell_type": "markdown",
   "id": "e32b2ece-d3eb-4bb7-b914-1f822a02684b",
   "metadata": {},
   "source": [
    "Using for loops will be slower, as writing to a file is itself a slow operation."
   ]
  },
  {
   "cell_type": "code",
   "execution_count": 17,
   "id": "8fd2df79",
   "metadata": {},
   "outputs": [],
   "source": [
    "# Your code here\n",
    "with open('my-text-lines.txt', 'w') as file:\n",
    "    for line in text.splitlines():          # splits string into a list of lines \n",
    "        file.writelines(line)"
   ]
  },
  {
   "cell_type": "code",
   "execution_count": 18,
   "id": "f0222b5e-4f30-42aa-9c36-ed2e1710b316",
   "metadata": {},
   "outputs": [],
   "source": [
    "with open('my-text-lines-1.txt', 'w') as file:\n",
    "    file.writelines(text.splitlines())"
   ]
  },
  {
   "attachments": {},
   "cell_type": "markdown",
   "id": "f00c47e5",
   "metadata": {},
   "source": [
    "# 3 Some useful packages"
   ]
  },
  {
   "cell_type": "markdown",
   "id": "f34a97e9-1c1f-4264-bc78-3ae5f3276dc3",
   "metadata": {},
   "source": [
    "| Package |                                 Primarily used for                                |\n",
    "|:-------:|:---------------------------------------------------------------------------------:|\n",
    "|    os   | To ‘talk’ to the OS to create, modify, delete folders and write OS-agnostic code. |\n",
    "|   glob  |                                To search for files.                               |\n",
    "|  shutil |                                   To copy files.                                  |"
   ]
  },
  {
   "cell_type": "code",
   "execution_count": 19,
   "id": "57b0d82c-16eb-44bd-b7b7-01861c54720b",
   "metadata": {},
   "outputs": [],
   "source": [
    "import os\n",
    "import glob\n",
    "import shutil"
   ]
  },
  {
   "attachments": {},
   "cell_type": "markdown",
   "id": "b446b4c5",
   "metadata": {},
   "source": [
    "# 4 OS safe paths"
   ]
  },
  {
   "cell_type": "code",
   "execution_count": 22,
   "id": "e685b857-017e-4a36-821c-971e3d98b1b8",
   "metadata": {
    "scrolled": true
   },
   "outputs": [
    {
     "name": "stdout",
     "output_type": "stream",
     "text": [
      "./all-data/sg-data/data-01.txt\n"
     ]
    }
   ],
   "source": [
    "# this method concatenates path components, each separated by a directory separator\n",
    "path = os.path.join('.', 'all-data', 'sg-data', 'data-01.txt')\n",
    "print(path) #./all-data/sg-data/data-01.txt"
   ]
  },
  {
   "cell_type": "markdown",
   "id": "ff802eb2-4985-474b-8000-e0d0556e4a72",
   "metadata": {},
   "source": [
    "On Windows, we will see `'.\\\\all-data\\\\sg-data\\\\data-01.txt'`"
   ]
  },
  {
   "attachments": {},
   "cell_type": "markdown",
   "id": "f2940b8d",
   "metadata": {},
   "source": [
    "# 5 Folders"
   ]
  },
  {
   "attachments": {},
   "cell_type": "markdown",
   "id": "b5e51641",
   "metadata": {},
   "source": [
    "## 5.1 Creating folders"
   ]
  },
  {
   "cell_type": "code",
   "execution_count": 23,
   "id": "bb519a83-ae09-4141-ac82-7493f006730f",
   "metadata": {},
   "outputs": [
    {
     "name": "stdout",
     "output_type": "stream",
     "text": [
      "Creating people/John\n",
      "Creating people/Paul\n",
      "Creating people/Ringo\n"
     ]
    }
   ],
   "source": [
    "os.mkdir('people')    # creates a directory (folder) named people\n",
    "\n",
    "for person in ['John', 'Paul', 'Ringo']: # creates 3 directories in the 'people' folder\n",
    "    path = os.path.join('people', person)\n",
    "    print(f'Creating {path}')\n",
    "    os.mkdir(path)     "
   ]
  },
  {
   "attachments": {},
   "cell_type": "markdown",
   "id": "67e0db83",
   "metadata": {},
   "source": [
    "## 5.2 Checking for existence"
   ]
  },
  {
   "cell_type": "markdown",
   "id": "ec27bffc-f4fd-472c-b108-45078df0c203",
   "metadata": {},
   "source": [
    "There are two approaches to checking if the OS file already exists, when creating files:"
   ]
  },
  {
   "attachments": {},
   "cell_type": "markdown",
   "id": "b910626d",
   "metadata": {},
   "source": [
    "### Using try-except"
   ]
  },
  {
   "cell_type": "code",
   "execution_count": 24,
   "id": "b394e47b",
   "metadata": {},
   "outputs": [
    {
     "name": "stdout",
     "output_type": "stream",
     "text": [
      "people/John already exists; skipping creation.\n",
      "people/Paul already exists; skipping creation.\n",
      "people/Ringo already exists; skipping creation.\n"
     ]
    }
   ],
   "source": [
    "\n",
    "# Your code here\n",
    "for person in ['John', 'Paul', 'Ringo']:\n",
    "    path = os.path.join('people', person)\n",
    "    try:\n",
    "        os.mkdir(path)\n",
    "        print(f'Creating {path}')\n",
    "    except FileExistsError:\n",
    "        print(f'{path} already exists; skipping creation.')\n"
   ]
  },
  {
   "attachments": {},
   "cell_type": "markdown",
   "id": "3ecd427e",
   "metadata": {},
   "source": [
    "### Using os.path.exists()"
   ]
  },
  {
   "cell_type": "code",
   "execution_count": 25,
   "id": "473f9b00",
   "metadata": {},
   "outputs": [
    {
     "name": "stdout",
     "output_type": "stream",
     "text": [
      "people/John already exists; skipping creation.\n",
      "people/Paul already exists; skipping creation.\n",
      "people/Ringo already exists; skipping creation.\n"
     ]
    }
   ],
   "source": [
    "\n",
    "# Your code here\n",
    "for person in ['John', 'Paul', 'Ringo']:\n",
    "    path = os.path.join('people', person)\n",
    "    if os.path.exists(path):\n",
    "        print(f'{path} already exists; skipping creation.')\n",
    "    else:\n",
    "        os.mkdir(path)\n",
    "        print(f'Creating {path}')\n"
   ]
  },
  {
   "attachments": {},
   "cell_type": "markdown",
   "id": "17cf406d",
   "metadata": {},
   "source": [
    "## 5.3 Copying files"
   ]
  },
  {
   "cell_type": "markdown",
   "id": "059ccac3-2e3d-4587-a6a6-4448a228727d",
   "metadata": {},
   "source": [
    "shutil.copy(source, destination, follow_symlinks=True).<br>\n",
    "This function copies the file *src* to the file or directory *dst*. If *dst* is a directory (folder), *src* will be copied INTO *dst*. If dst is a file that already exists, *dst* will be replaced. "
   ]
  },
  {
   "cell_type": "code",
   "execution_count": 35,
   "id": "502abf1d-1421-4fe3-93a3-f97e09677065",
   "metadata": {},
   "outputs": [
    {
     "name": "stdout",
     "output_type": "stream",
     "text": [
      "Copied file to people/John\n",
      "Copied file to people/Paul\n",
      "Copied file to people/Ringo\n"
     ]
    }
   ],
   "source": [
    "for person in ['John', 'Paul', 'Ringo']:\n",
    "    path_to_destination = os.path.join('people', person)\n",
    "    shutil.copy('sp2273_logo.png', path_to_destination)\n",
    "    print(f'Copied file to {path_to_destination}')"
   ]
  },
  {
   "cell_type": "code",
   "execution_count": 36,
   "id": "b1bbf664-ea42-4028-8a66-6517fe62dda5",
   "metadata": {},
   "outputs": [
    {
     "name": "stdout",
     "output_type": "stream",
     "text": [
      "Moved logo to people/John/imgs/sp2273_logo.png\n",
      "Moved logo to people/Paul/imgs/sp2273_logo.png\n",
      "Moved logo to people/Ringo/imgs/sp2273_logo.png\n"
     ]
    }
   ],
   "source": [
    "# moves logo files into the imgs sub-folder in each person directory \n",
    "\n",
    "for person in ['John', 'Paul', 'Ringo']:\n",
    "    # Create folder 'imgs'\n",
    "    path_to_imgs = os.path.join('people', person, 'imgs')\n",
    "    if not os.path.exists(path_to_imgs):\n",
    "        os.mkdir(path_to_imgs)\n",
    "\n",
    "    # Move logo file\n",
    "    current_path_of_logo = os.path.join('people', person, 'sp2273_logo.png')\n",
    "    new_path_of_logo = os.path.join('people', person, 'imgs', 'sp2273_logo.png')\n",
    "\n",
    "    shutil.move(current_path_of_logo, new_path_of_logo)\n",
    "    print(f'Moved logo to {new_path_of_logo}')"
   ]
  },
  {
   "attachments": {},
   "cell_type": "markdown",
   "id": "2e8ba60f",
   "metadata": {},
   "source": [
    "# 6 Listing and looking for files"
   ]
  },
  {
   "cell_type": "code",
   "execution_count": 27,
   "id": "4fc3b705-af67-4c4a-af75-2b0c6b7695ee",
   "metadata": {},
   "outputs": [
    {
     "data": {
      "text/plain": [
       "['my-text-once.txt',\n",
       " 'files,_folders_&_os_(need).ipynb',\n",
       " 'people',\n",
       " 'my-text-lines-1.txt',\n",
       " 'myfile.txt',\n",
       " 'my-text-lines.txt']"
      ]
     },
     "execution_count": 27,
     "metadata": {},
     "output_type": "execute_result"
    }
   ],
   "source": [
    "# gives all files in the current directory\n",
    "glob.glob('*') # ['my-text-once.txt', 'files,_folders_&_os_(need).ipynb', 'people', 'my-text-lines-1.txt', 'myfile.txt', 'my-text-lines.txt']"
   ]
  },
  {
   "cell_type": "code",
   "execution_count": 28,
   "id": "12f069d7-3045-4793-b3b4-40100811639f",
   "metadata": {},
   "outputs": [
    {
     "data": {
      "text/plain": [
       "['people']"
      ]
     },
     "execution_count": 28,
     "metadata": {},
     "output_type": "execute_result"
    }
   ],
   "source": [
    "# gives only those files that match the pattern ‘peo’ followed by ‘anything’\n",
    "glob.glob('peo*') # ['people']"
   ]
  },
  {
   "cell_type": "code",
   "execution_count": 37,
   "id": "37cd5e57-2157-416f-b59f-1eaa787c72cd",
   "metadata": {},
   "outputs": [
    {
     "data": {
      "text/plain": [
       "['people/Paul', 'people/John', 'people/Ringo']"
      ]
     },
     "execution_count": 37,
     "metadata": {},
     "output_type": "execute_result"
    }
   ],
   "source": [
    "# gives all files inside folders that start with peo\n",
    "glob.glob('peo*/*') # [people/Ringo, people/Paul, people/John]"
   ]
  },
  {
   "cell_type": "code",
   "execution_count": 38,
   "id": "83e1458d-5add-448b-ae97-26883e5680a2",
   "metadata": {},
   "outputs": [
    {
     "data": {
      "text/plain": [
       "['people/',\n",
       " 'people/Paul',\n",
       " 'people/Paul/imgs',\n",
       " 'people/Paul/imgs/sp2273_logo.png',\n",
       " 'people/John',\n",
       " 'people/John/imgs',\n",
       " 'people/John/imgs/sp2273_logo.png',\n",
       " 'people/Ringo',\n",
       " 'people/Ringo/imgs',\n",
       " 'people/Ringo/imgs/sp2273_logo.png']"
      ]
     },
     "execution_count": 38,
     "metadata": {},
     "output_type": "execute_result"
    }
   ],
   "source": [
    "# gives the detailed structure of the folder\n",
    "glob.glob('people/**', recursive=True)"
   ]
  },
  {
   "cell_type": "code",
   "execution_count": 39,
   "id": "de068357-c111-4e0a-aa47-78812936597e",
   "metadata": {},
   "outputs": [
    {
     "data": {
      "text/plain": [
       "['people/Paul/imgs/sp2273_logo.png',\n",
       " 'people/John/imgs/sp2273_logo.png',\n",
       " 'people/Ringo/imgs/sp2273_logo.png']"
      ]
     },
     "execution_count": 39,
     "metadata": {},
     "output_type": "execute_result"
    }
   ],
   "source": [
    "# searches through the whole structure of people, and shows files with .png\n",
    "glob.glob('people/**/*.png', recursive=True)"
   ]
  },
  {
   "attachments": {},
   "cell_type": "markdown",
   "id": "86b121ed",
   "metadata": {},
   "source": [
    "# 7 Extracting file info"
   ]
  },
  {
   "cell_type": "code",
   "execution_count": 41,
   "id": "57940e04-f540-41c8-822b-41b1c3df23ae",
   "metadata": {},
   "outputs": [
    {
     "name": "stdout",
     "output_type": "stream",
     "text": [
      "sp2273_logo.png png\n"
     ]
    }
   ],
   "source": [
    "path = 'people/Ringo/imgs/sp2273_logo.png'\n",
    "filename = path.split(os.path.sep)[-1] #sp2273_logo.png\n",
    "extension = filename.split('.')[-1] #png\n",
    "print(filename, extension)"
   ]
  },
  {
   "cell_type": "code",
   "execution_count": 42,
   "id": "1623c4b1-5613-4f39-b094-a9a6e3e2eb63",
   "metadata": {},
   "outputs": [],
   "source": [
    "path = 'people/Ringo/imgs/sp2273_logo.png'"
   ]
  },
  {
   "cell_type": "code",
   "execution_count": 43,
   "id": "245359c6-a3f7-4fbb-ad32-2f5e2b0ec5f7",
   "metadata": {
    "scrolled": true
   },
   "outputs": [
    {
     "data": {
      "text/plain": [
       "('people/Ringo/imgs', 'sp2273_logo.png')"
      ]
     },
     "execution_count": 43,
     "metadata": {},
     "output_type": "execute_result"
    }
   ],
   "source": [
    "os.path.split(path)      # Split filename from the rest\n",
    "                         # ('people/Ringo/imgs', 'sp2273_logo.png')"
   ]
  },
  {
   "cell_type": "code",
   "execution_count": null,
   "id": "44d27f64-093b-4b59-987b-e4688c357e2f",
   "metadata": {},
   "outputs": [],
   "source": [
    "os.path.splitext(path)   # Split extension\n",
    "                         # ('people/Ringo/imgs/sp2273_logo', '.png')"
   ]
  },
  {
   "cell_type": "code",
   "execution_count": 44,
   "id": "bf2d44a3-0aeb-456d-83f6-98f305d3d336",
   "metadata": {},
   "outputs": [
    {
     "data": {
      "text/plain": [
       "'people/Ringo/imgs'"
      ]
     },
     "execution_count": 44,
     "metadata": {},
     "output_type": "execute_result"
    }
   ],
   "source": [
    "os.path.dirname(path)    # Show the directory\n",
    "                         # 'people/Ringo/imgs'"
   ]
  },
  {
   "attachments": {},
   "cell_type": "markdown",
   "id": "d4a98537",
   "metadata": {},
   "source": [
    "# 8 Deleting stuff"
   ]
  },
  {
   "cell_type": "code",
   "execution_count": 45,
   "id": "51dffb82-f85c-435d-9d6f-4e7e8313df6a",
   "metadata": {},
   "outputs": [],
   "source": [
    "# removing a file\n",
    "os.remove('people/Ringo/imgs/sp2273_logo.png')"
   ]
  },
  {
   "cell_type": "code",
   "execution_count": 46,
   "id": "a14fa4a5-cef3-45af-a91b-a86ce55c44fb",
   "metadata": {},
   "outputs": [
    {
     "ename": "OSError",
     "evalue": "[Errno 66] Directory not empty: 'people/Ringo'",
     "output_type": "error",
     "traceback": [
      "\u001b[0;31m---------------------------------------------------------------------------\u001b[0m",
      "\u001b[0;31mOSError\u001b[0m                                   Traceback (most recent call last)",
      "Cell \u001b[0;32mIn[46], line 2\u001b[0m\n\u001b[1;32m      1\u001b[0m \u001b[38;5;66;03m# removes an empty directory\u001b[39;00m\n\u001b[0;32m----> 2\u001b[0m \u001b[43mos\u001b[49m\u001b[38;5;241;43m.\u001b[39;49m\u001b[43mrmdir\u001b[49m\u001b[43m(\u001b[49m\u001b[38;5;124;43m'\u001b[39;49m\u001b[38;5;124;43mpeople/Ringo\u001b[39;49m\u001b[38;5;124;43m'\u001b[39;49m\u001b[43m)\u001b[49m\n",
      "\u001b[0;31mOSError\u001b[0m: [Errno 66] Directory not empty: 'people/Ringo'"
     ]
    }
   ],
   "source": [
    "# removes an empty directory\n",
    "# os.rmdir('people/Ringo') # does not work, because dir is not empty"
   ]
  },
  {
   "cell_type": "code",
   "execution_count": 47,
   "id": "a18b9459-cef7-41c8-aaa0-a401c99cd3ac",
   "metadata": {},
   "outputs": [],
   "source": [
    "# removing a directory containing files\n",
    "shutil.rmtree('people/Ringo')"
   ]
  }
 ],
 "metadata": {
  "kernelspec": {
   "display_name": "Python 3 (ipykernel)",
   "language": "python",
   "name": "python3"
  },
  "language_info": {
   "codemirror_mode": {
    "name": "ipython",
    "version": 3
   },
   "file_extension": ".py",
   "mimetype": "text/x-python",
   "name": "python",
   "nbconvert_exporter": "python",
   "pygments_lexer": "ipython3",
   "version": "3.10.11"
  },
  "toc": {
   "base_numbering": 1,
   "nav_menu": {},
   "number_sections": true,
   "sideBar": true,
   "skip_h1_title": false,
   "title_cell": "Table of Contents",
   "title_sidebar": "Contents",
   "toc_cell": false,
   "toc_position": {},
   "toc_section_display": true,
   "toc_window_display": false
  },
  "vscode": {
   "interpreter": {
    "hash": "31f2aee4e71d21fbe5cf8b01ff0e069b9275f58929596ceb00d14d90e3e16cd6"
   }
  }
 },
 "nbformat": 4,
 "nbformat_minor": 5
}
