{
 "cells": [
  {
   "attachments": {},
   "cell_type": "markdown",
   "id": "123456",
   "metadata": {},
   "source": [
    "<div style=\"text-align:left;font-size:2em\"><span style=\"font-weight:bolder;font-size:1.25em\">SP2273 | Learning Portfolio</span><br><br><span style=\"font-weight:bold;color:darkred\">Using Jupyter (Good), Exercises</span></div>"
   ]
  },
  {
   "cell_type": "markdown",
   "id": "965231cc-febb-4804-87cc-7402fbeabc88",
   "metadata": {},
   "source": [
    "# Exercise 1 (Learning to interrupt)"
   ]
  },
  {
   "cell_type": "code",
   "execution_count": null,
   "id": "5fc70d61-9c96-44ff-abed-9e379a8d6a3b",
   "metadata": {},
   "outputs": [],
   "source": [
    "while True:\n",
    "    print('*', end='')"
   ]
  },
  {
   "cell_type": "markdown",
   "id": "d69ef900-2227-429e-8051-250540bff339",
   "metadata": {},
   "source": [
    "To stop the kernel, I pressed 'Interrupt kernel' under 'Kernel'. Alternatively, the Mac shortcut esc + I, I also works. "
   ]
  },
  {
   "cell_type": "markdown",
   "id": "9004fda5-ad20-4b40-888d-7f3cef35492a",
   "metadata": {},
   "source": [
    "# Exercise 2 (Resetting & Restarting the Kernel)  "
   ]
  },
  {
   "cell_type": "code",
   "execution_count": 9,
   "id": "37f302ab-2e0c-4b93-b703-763b3707f841",
   "metadata": {},
   "outputs": [],
   "source": [
    "print = 'PRINT'"
   ]
  },
  {
   "cell_type": "code",
   "execution_count": 1,
   "id": "a6b47f8e-3936-4dfe-a6f2-665ed84a48ba",
   "metadata": {},
   "outputs": [
    {
     "name": "stdout",
     "output_type": "stream",
     "text": [
      "Hello World\n"
     ]
    }
   ],
   "source": [
    "print('Hello World')"
   ]
  },
  {
   "attachments": {},
   "cell_type": "markdown",
   "id": "f88244c3",
   "metadata": {},
   "source": [
    "## Footnotes"
   ]
  }
 ],
 "metadata": {
  "kernelspec": {
   "display_name": "Python 3 (ipykernel)",
   "language": "python",
   "name": "python3"
  },
  "language_info": {
   "codemirror_mode": {
    "name": "ipython",
    "version": 3
   },
   "file_extension": ".py",
   "mimetype": "text/x-python",
   "name": "python",
   "nbconvert_exporter": "python",
   "pygments_lexer": "ipython3",
   "version": "3.10.11"
  },
  "toc": {
   "base_numbering": 1,
   "nav_menu": {},
   "number_sections": true,
   "sideBar": true,
   "skip_h1_title": false,
   "title_cell": "Table of Contents",
   "title_sidebar": "Contents",
   "toc_cell": false,
   "toc_position": {},
   "toc_section_display": true,
   "toc_window_display": false
  },
  "vscode": {
   "interpreter": {
    "hash": "31f2aee4e71d21fbe5cf8b01ff0e069b9275f58929596ceb00d14d90e3e16cd6"
   }
  }
 },
 "nbformat": 4,
 "nbformat_minor": 5
}
