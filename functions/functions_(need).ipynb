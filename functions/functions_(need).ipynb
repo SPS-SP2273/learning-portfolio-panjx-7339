{
 "cells": [
  {
   "attachments": {},
   "cell_type": "markdown",
   "id": "123456",
   "metadata": {},
   "source": [
    "<div style=\"text-align:left;font-size:2em\"><span style=\"font-weight:bolder;font-size:1.25em\">SP2273 | Learning Portfolio</span><br><br><span style=\"font-weight:bold;color:darkred\">Functions (Need)</span></div>"
   ]
  },
  {
   "attachments": {},
   "cell_type": "markdown",
   "id": "aeb75a3c",
   "metadata": {},
   "source": [
    "# What to expect in this chapter"
   ]
  },
  {
   "attachments": {},
   "cell_type": "markdown",
   "id": "5afe636e",
   "metadata": {},
   "source": [
    "# 1 User-defined functions"
   ]
  },
  {
   "cell_type": "markdown",
   "id": "65091257-3817-4306-bcad-9c8e6f45aff3",
   "metadata": {},
   "source": [
    "`print()` is an example of an internal function in Python. We can also create our own functions, in two ways: **named** and **anonymous**."
   ]
  },
  {
   "attachments": {},
   "cell_type": "markdown",
   "id": "7d45e8c3",
   "metadata": {},
   "source": [
    "## 1.1 Named Functions"
   ]
  },
  {
   "attachments": {},
   "cell_type": "markdown",
   "id": "704cc7fe",
   "metadata": {},
   "source": [
    "### Named functions that return"
   ]
  },
  {
   "cell_type": "code",
   "execution_count": 2,
   "id": "98b1e061",
   "metadata": {},
   "outputs": [],
   "source": [
    "def greeting(name):\n",
    "    if name == 'Batman':\n",
    "        return 'Hello Batman! So, nice to meet you!'\n",
    "    else:\n",
    "        return f'Hello {name}!'"
   ]
  },
  {
   "cell_type": "code",
   "execution_count": 3,
   "id": "f1e51f5b-cfe0-4fcb-9129-0903f5ab0aa2",
   "metadata": {},
   "outputs": [
    {
     "data": {
      "text/plain": [
       "'Hello Super Man!'"
      ]
     },
     "execution_count": 3,
     "metadata": {},
     "output_type": "execute_result"
    }
   ],
   "source": [
    "greeting(\"Super Man\")"
   ]
  },
  {
   "cell_type": "code",
   "execution_count": 4,
   "id": "215a1f99-0340-467c-ade8-9de68e9b169a",
   "metadata": {},
   "outputs": [
    {
     "data": {
      "text/plain": [
       "'Hello Super Man!'"
      ]
     },
     "execution_count": 4,
     "metadata": {},
     "output_type": "execute_result"
    }
   ],
   "source": [
    "greeting(name=\"Super Man\")"
   ]
  },
  {
   "cell_type": "code",
   "execution_count": 5,
   "id": "c6733cd9-8bc0-46d2-95ac-a6c7471621ea",
   "metadata": {},
   "outputs": [
    {
     "name": "stdout",
     "output_type": "stream",
     "text": [
      "Hello Super Man!\n",
      "Hello Super Man!\n"
     ]
    }
   ],
   "source": [
    "greet=greeting(name='Super Man')  # assigns return value to a variable\n",
    "print(greet)  # prints out return value of the function\n",
    "print(greeting(name='Super Man'))  # this also prints it out"
   ]
  },
  {
   "cell_type": "code",
   "execution_count": 9,
   "id": "e8863c88-ecbf-4eee-ba91-6e1fa2bd55cf",
   "metadata": {},
   "outputs": [],
   "source": [
    "import numpy as np"
   ]
  },
  {
   "cell_type": "code",
   "execution_count": 13,
   "id": "c45fe603-9a76-4ec3-baf6-bd4cdd10b5e8",
   "metadata": {},
   "outputs": [],
   "source": [
    "numbers = [1, 2, 3]\n",
    "def basic_stats(numbers):\n",
    "    np_numbers = np.array(numbers)\n",
    "    my_min = np_numbers.min()\n",
    "    my_max = np_numbers.max()\n",
    "    my_mean = np_numbers.mean()\n",
    "    return my_max, my_min, my_mean # returns a tuple of values"
   ]
  },
  {
   "cell_type": "code",
   "execution_count": 12,
   "id": "3f00cf09-e8a2-4fca-8401-01446b9a1314",
   "metadata": {},
   "outputs": [],
   "source": [
    "list_min, list_max, list_mean = basic_stats([1, 2, 3, 4, 5]) # assigns variables to each value in the tuple "
   ]
  },
  {
   "attachments": {},
   "cell_type": "markdown",
   "id": "c317289f",
   "metadata": {},
   "source": [
    "### Named functions that don’t return"
   ]
  },
  {
   "cell_type": "markdown",
   "id": "06f19417-da69-4e1b-bf54-7145c35e7c69",
   "metadata": {},
   "source": [
    "A function does not have to return anything. A good example is print(), which does something but does not return a value. You will often also need functions like these, for instance, to save data to a file.\n"
   ]
  },
  {
   "attachments": {},
   "cell_type": "markdown",
   "id": "40e5731c",
   "metadata": {},
   "source": [
    "## 1.2 Anonymous functions"
   ]
  },
  {
   "cell_type": "markdown",
   "id": "fa9618c3-a20a-4403-9273-e2684cb3b76d",
   "metadata": {},
   "source": [
    "Anonymous (lambda) functions are good for simple one-liner expressions. They always return the value of the last statement."
   ]
  },
  {
   "cell_type": "code",
   "execution_count": 14,
   "id": "dc4a8446-1a32-42aa-95ac-cbc6a7eb3c29",
   "metadata": {},
   "outputs": [],
   "source": [
    "# Example 1\n",
    "my_short_function = lambda name: f\"Hello {name}!\" # accepts a single argument called name"
   ]
  },
  {
   "cell_type": "code",
   "execution_count": 15,
   "id": "e70cff28-2d55-425c-92e6-9a9bec928165",
   "metadata": {},
   "outputs": [
    {
     "data": {
      "text/plain": [
       "'Hello Super Man!'"
      ]
     },
     "execution_count": 15,
     "metadata": {},
     "output_type": "execute_result"
    }
   ],
   "source": [
    "my_short_function(name=\"Super Man\")"
   ]
  },
  {
   "cell_type": "code",
   "execution_count": 17,
   "id": "cb477ca5-9728-4950-9c23-a384f9b6cc20",
   "metadata": {},
   "outputs": [],
   "source": [
    "# Example 2 \n",
    "\n",
    "numbers = [[9, 0, -10],\n",
    "         [8, 1, -11],\n",
    "         [7, 2, -12],\n",
    "         [6, 3, -13],\n",
    "         [5, 4, -14],\n",
    "         [4, 5, -15],\n",
    "         [3, 6, -16],\n",
    "         [2, 7, -17],\n",
    "         [1, 8, -18],\n",
    "         [0, 9, -19]]"
   ]
  },
  {
   "cell_type": "code",
   "execution_count": 19,
   "id": "d6e59684-7024-4b25-be03-7667c12aeed1",
   "metadata": {},
   "outputs": [
    {
     "data": {
      "text/plain": [
       "[[0, 9, -19],\n",
       " [1, 8, -18],\n",
       " [2, 7, -17],\n",
       " [3, 6, -16],\n",
       " [4, 5, -15],\n",
       " [5, 4, -14],\n",
       " [6, 3, -13],\n",
       " [7, 2, -12],\n",
       " [8, 1, -11],\n",
       " [9, 0, -10]]"
      ]
     },
     "execution_count": 19,
     "metadata": {},
     "output_type": "execute_result"
    }
   ],
   "source": [
    "sorted(numbers)  # sorts by comparing the default key (index = 0)"
   ]
  },
  {
   "cell_type": "code",
   "execution_count": 22,
   "id": "9a30479a-91d5-4ba5-8915-435ebdda899e",
   "metadata": {},
   "outputs": [
    {
     "data": {
      "text/plain": [
       "[[9, 0, -10],\n",
       " [8, 1, -11],\n",
       " [7, 2, -12],\n",
       " [6, 3, -13],\n",
       " [5, 4, -14],\n",
       " [4, 5, -15],\n",
       " [3, 6, -16],\n",
       " [2, 7, -17],\n",
       " [1, 8, -18],\n",
       " [0, 9, -19]]"
      ]
     },
     "execution_count": 22,
     "metadata": {},
     "output_type": "execute_result"
    }
   ],
   "source": [
    "sorted(numbers, key=lambda x:x[1]) # sorts by comparing custom key (index = 1 in this case)"
   ]
  },
  {
   "attachments": {},
   "cell_type": "markdown",
   "id": "ad23643d",
   "metadata": {},
   "source": [
    "## 1.3 Optional arguments"
   ]
  },
  {
   "cell_type": "markdown",
   "id": "fe761aee-34eb-40ba-9e13-c1526a4d8713",
   "metadata": {},
   "source": [
    "To make arguments to our function optional, even when the function uses a parameter, we need to give the argument a default value."
   ]
  },
  {
   "cell_type": "code",
   "execution_count": 24,
   "id": "337320fe-d5b8-4c61-a8a5-76797a9991ce",
   "metadata": {},
   "outputs": [],
   "source": [
    "def greeting(name='no one'):  # specifies a default value for the argument\n",
    "    if name == 'Batman':\n",
    "        return 'Hello Batman! So, nice to meet you!'\n",
    "    else:\n",
    "        return f'Hello {name}!'"
   ]
  },
  {
   "cell_type": "code",
   "execution_count": 25,
   "id": "5dd737c1-d907-4e86-807c-8755824a38b9",
   "metadata": {},
   "outputs": [
    {
     "data": {
      "text/plain": [
       "'Hello no one!'"
      ]
     },
     "execution_count": 25,
     "metadata": {},
     "output_type": "execute_result"
    }
   ],
   "source": [
    "greeting()"
   ]
  },
  {
   "cell_type": "code",
   "execution_count": 26,
   "id": "6736404e-68c1-4d72-8001-39ddef11df04",
   "metadata": {},
   "outputs": [
    {
     "data": {
      "text/plain": [
       "\u001b[0;31mDocstring:\u001b[0m\n",
       "print(value, ..., sep=' ', end='\\n', file=sys.stdout, flush=False)\n",
       "\n",
       "Prints the values to a stream, or to sys.stdout by default.\n",
       "Optional keyword arguments:\n",
       "file:  a file-like object (stream); defaults to the current sys.stdout.\n",
       "sep:   string inserted between values, default a space.\n",
       "end:   string appended after the last value, default a newline.\n",
       "flush: whether to forcibly flush the stream.\n",
       "\u001b[0;31mType:\u001b[0m      builtin_function_or_method"
      ]
     },
     "metadata": {},
     "output_type": "display_data"
    }
   ],
   "source": [
    "# documentation for print() shows that it accepts optional arguments\n",
    "?print"
   ]
  },
  {
   "cell_type": "code",
   "execution_count": 27,
   "id": "601873c9-a2ae-487a-8b59-241534fc199a",
   "metadata": {},
   "outputs": [
    {
     "name": "stdout",
     "output_type": "stream",
     "text": [
      "I am Batman!\n",
      "I---am---Batman!\n"
     ]
    }
   ],
   "source": [
    "# Using default values\n",
    "print('I', 'am', 'Batman!')\n",
    "# Specifying an optional argument\n",
    "print('I', 'am', 'Batman!', sep='---')  "
   ]
  },
  {
   "attachments": {},
   "cell_type": "markdown",
   "id": "0e1c0d8b",
   "metadata": {},
   "source": [
    "## 1.4 The importance of functions?"
   ]
  },
  {
   "attachments": {},
   "cell_type": "markdown",
   "id": "e1eb1b8c",
   "metadata": {},
   "source": [
    "### An argument for functions"
   ]
  },
  {
   "cell_type": "markdown",
   "id": "1d92ab5b-4391-4391-9cf4-635b7c7165e4",
   "metadata": {},
   "source": [
    "Now that you know a bit about creating functions, let me highlight why functions are a good idea.\n",
    "\n",
    "**Abstraction of details**: The most important benefit of functions goes beyond programming and relates to your ability to strategize. If you break up a complicated solution into modular chunks (i.e., functions), it becomes easier to think about it because you are not dealing with all the details all at once. As a result, it is easier to focus on your overall solution because you are not distracted by unnecessary information. This hiding of ‘stuff’ is called abstraction in computer science lingo. The concept of abstraction can be tricky to grasp. So, let me share an analogy related to driving.\n",
    "\n",
    "A vehicle has many ‘abstracted’ systems, amongst which the engine is a good example. You do not need to know the engine’s details (e.g. electric, petrol, diesel, guineapig) to use it. You can use the engine of almost any car because you are not required to know what happens inside. This frees up your resources because you are not distracted by unnecessary details. Of course, there will be times when you want to know how an engine works to pick the best engine.\n",
    "\n",
    "**Reusability of code** If you encapsulate a chunk of code in a function, it becomes straightforward to reuse it instead of copying and pasting at different places. This means your code will be shorter and more compact.\n",
    "\n",
    "**Maintainability of code** With functions, your code is easier to change and maintain because you need only make changes in one place, at the function definition.\n"
   ]
  },
  {
   "attachments": {},
   "cell_type": "markdown",
   "id": "643f4e2a",
   "metadata": {},
   "source": [
    "### A word of caution"
   ]
  },
  {
   "cell_type": "markdown",
   "id": "4e5331b3-ad6f-4d31-abb5-97a7c28e0dbc",
   "metadata": {},
   "source": [
    "I have seen many instances where functions are **abused**; for example, by trying to do too many things or having too many arguments. They can also be **overused**. Having too many functions can make it difficult to read your code and also increase computational overheads. You will get a better feel for when to use functions with experience, but please bear in mind that functions can be misused."
   ]
  }
 ],
 "metadata": {
  "kernelspec": {
   "display_name": "Python 3 (ipykernel)",
   "language": "python",
   "name": "python3"
  },
  "language_info": {
   "codemirror_mode": {
    "name": "ipython",
    "version": 3
   },
   "file_extension": ".py",
   "mimetype": "text/x-python",
   "name": "python",
   "nbconvert_exporter": "python",
   "pygments_lexer": "ipython3",
   "version": "3.10.11"
  },
  "toc": {
   "base_numbering": 1,
   "nav_menu": {},
   "number_sections": true,
   "sideBar": true,
   "skip_h1_title": false,
   "title_cell": "Table of Contents",
   "title_sidebar": "Contents",
   "toc_cell": false,
   "toc_position": {},
   "toc_section_display": true,
   "toc_window_display": false
  },
  "vscode": {
   "interpreter": {
    "hash": "31f2aee4e71d21fbe5cf8b01ff0e069b9275f58929596ceb00d14d90e3e16cd6"
   }
  }
 },
 "nbformat": 4,
 "nbformat_minor": 5
}
