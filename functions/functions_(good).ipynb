{
 "cells": [
  {
   "attachments": {},
   "cell_type": "markdown",
   "id": "123456",
   "metadata": {},
   "source": [
    "<div style=\"text-align:left;font-size:2em\"><span style=\"font-weight:bolder;font-size:1.25em\">SP2273 | Learning Portfolio</span><br><br><span style=\"font-weight:bold;color:darkred\">Functions (Good)</span></div>"
   ]
  },
  {
   "attachments": {},
   "cell_type": "markdown",
   "id": "cf45e6d0",
   "metadata": {},
   "source": [
    "# What to expect in this chapter"
   ]
  },
  {
   "attachments": {},
   "cell_type": "markdown",
   "id": "1f179feb",
   "metadata": {},
   "source": [
    "# 1 Checks, balances, and contingencies"
   ]
  },
  {
   "attachments": {},
   "cell_type": "markdown",
   "id": "bb22a2ef",
   "metadata": {},
   "source": [
    "## 1.1 assert"
   ]
  },
  {
   "cell_type": "markdown",
   "id": "fff9981a-dd5c-4a92-b129-74a2ba78f891",
   "metadata": {},
   "source": [
    "Python has a command called assert that can check a condition and halts execution if the condition **fails** by raising an AssertionError, with the option of printing a message.<br>\n",
    "\n",
    "The basic syntax:\n",
    "`assert condition-to-check, message`"
   ]
  },
  {
   "cell_type": "code",
   "execution_count": null,
   "id": "4a152775-6e27-4699-84e6-061eb7ff76a0",
   "metadata": {},
   "outputs": [],
   "source": [
    "# Example\n",
    "assert x >= 0, \"x is becoming negative!\""
   ]
  },
  {
   "cell_type": "code",
   "execution_count": 2,
   "id": "aeceb1ab-c786-4399-b8dd-ae7b3a819a68",
   "metadata": {},
   "outputs": [],
   "source": [
    "# This program runs with no problem\n",
    "x = 10\n",
    "assert x >= 0, \"x is becoming negative!\""
   ]
  },
  {
   "cell_type": "code",
   "execution_count": 3,
   "id": "8d05d26a-3eb2-4d65-b75c-0738590cda51",
   "metadata": {},
   "outputs": [
    {
     "ename": "AssertionError",
     "evalue": "x is becoming negative!",
     "output_type": "error",
     "traceback": [
      "\u001b[0;31m---------------------------------------------------------------------------\u001b[0m",
      "\u001b[0;31mAssertionError\u001b[0m                            Traceback (most recent call last)",
      "Cell \u001b[0;32mIn[3], line 3\u001b[0m\n\u001b[1;32m      1\u001b[0m \u001b[38;5;66;03m# This raises an AssertionError, stopping the execution \u001b[39;00m\n\u001b[1;32m      2\u001b[0m x \u001b[38;5;241m=\u001b[39m \u001b[38;5;241m-\u001b[39m\u001b[38;5;241m1\u001b[39m\n\u001b[0;32m----> 3\u001b[0m \u001b[38;5;28;01massert\u001b[39;00m x \u001b[38;5;241m>\u001b[39m\u001b[38;5;241m=\u001b[39m \u001b[38;5;241m0\u001b[39m, \u001b[38;5;124m\"\u001b[39m\u001b[38;5;124mx is becoming negative!\u001b[39m\u001b[38;5;124m\"\u001b[39m\n",
      "\u001b[0;31mAssertionError\u001b[0m: x is becoming negative!"
     ]
    }
   ],
   "source": [
    "# This raises an AssertionError, stopping the execution \n",
    "## AssertionError: x is becoming negative!\n",
    "x = -1\n",
    "assert x >= 0, \"x is becoming negative!\""
   ]
  },
  {
   "attachments": {},
   "cell_type": "markdown",
   "id": "67835cf4",
   "metadata": {},
   "source": [
    "## 1.2 try-except"
   ]
  },
  {
   "cell_type": "markdown",
   "id": "7fc4551e-66d7-45b1-962c-c671c4867a4c",
   "metadata": {},
   "source": [
    "Exceptions are a technical term for errors that occur during the execution of a program. E.g. division by zero will raise a `ZeroDivisionError`. Try-except structures allow us to catch and handle these exceptions ourselves. "
   ]
  },
  {
   "cell_type": "code",
   "execution_count": 6,
   "id": "c40011a2-caac-413b-88d8-5693a8dfc194",
   "metadata": {},
   "outputs": [
    {
     "name": "stdin",
     "output_type": "stream",
     "text": [
      "Give me a number and I will calculate its square. 10\n"
     ]
    },
    {
     "name": "stdout",
     "output_type": "stream",
     "text": [
      "The square of 10 is 100!\n"
     ]
    }
   ],
   "source": [
    "# Example\n",
    "number = input(\"Give me a number and I will calculate its square.\")\n",
    "square = int(number)**2              # Convert string to int\n",
    "print(f'The square of {number} is {square}!')"
   ]
  },
  {
   "cell_type": "code",
   "execution_count": 7,
   "id": "8be07071-c3a9-45e9-acbe-cd2551e91311",
   "metadata": {},
   "outputs": [
    {
     "name": "stdin",
     "output_type": "stream",
     "text": [
      "Give me a number and I will calculate its square. dkjsk\n"
     ]
    },
    {
     "name": "stdout",
     "output_type": "stream",
     "text": [
      "Oh oh! I cannot square dkjsk!\n"
     ]
    }
   ],
   "source": [
    "# Try-except flow control statement handles cases where the input is not a number\n",
    "try:\n",
    "    number = input(\"Give me a number and I will calculate its square.\")\n",
    "    square = int(number)**2\n",
    "    print(f'The square of {number} is {square}!')\n",
    "except:\n",
    "    print(f'Oh oh! I cannot square {number}!')"
   ]
  },
  {
   "attachments": {},
   "cell_type": "markdown",
   "id": "4776e5fa",
   "metadata": {},
   "source": [
    "## 1.3 A simple suggestion"
   ]
  },
  {
   "cell_type": "markdown",
   "id": "4efe0a20-bc7f-4d30-8986-130de176d976",
   "metadata": {},
   "source": [
    "Including print statements allows the user to know what is happening in the program, and can be used to track milestones. "
   ]
  },
  {
   "attachments": {},
   "cell_type": "markdown",
   "id": "05886cc7",
   "metadata": {},
   "source": [
    "# 2 Some loose ends"
   ]
  },
  {
   "attachments": {},
   "cell_type": "markdown",
   "id": "93d76045",
   "metadata": {},
   "source": [
    "## 2.1 Positional, keyword and default arguments"
   ]
  },
  {
   "cell_type": "markdown",
   "id": "be6ccd87-fc7e-49da-b980-a92378c2e6e4",
   "metadata": {},
   "source": [
    "There are three ‘ways’ to pass a value to an argument: <span style=\"color: orange;\">positional, keyword and default.</span>"
   ]
  },
  {
   "cell_type": "code",
   "execution_count": 12,
   "id": "9c773b66-0250-47a5-a1df-d4a5b07ef257",
   "metadata": {},
   "outputs": [],
   "source": [
    "def side_by_side(a, b, c=42):\n",
    "    return f'{a: 2d}|{b: 2d}|{c: 2d}' # 2d: specifies min. width of 2 characters"
   ]
  },
  {
   "cell_type": "code",
   "execution_count": 9,
   "id": "3afd455d-2e99-420f-90ae-f35ce2570838",
   "metadata": {},
   "outputs": [
    {
     "data": {
      "text/plain": [
       "' 1| 2| 3'"
      ]
     },
     "execution_count": 9,
     "metadata": {},
     "output_type": "execute_result"
    }
   ],
   "source": [
    "side_by_side(1, 2, 3)  # positional: assigns 1, 2, 3 to a, b, c"
   ]
  },
  {
   "cell_type": "code",
   "execution_count": 14,
   "id": "b5fe8b59-1954-4536-8384-1596a50d20ef",
   "metadata": {},
   "outputs": [
    {
     "data": {
      "text/plain": [
       "' 2|1|3'"
      ]
     },
     "execution_count": 14,
     "metadata": {},
     "output_type": "execute_result"
    }
   ],
   "source": [
    "side_by_side(c=3, b=1, a=2)  # keyword: specifies the keyword to assign values to a,b,c (order doesn't matter)"
   ]
  },
  {
   "cell_type": "code",
   "execution_count": 16,
   "id": "7c8baf2f-9c67-4dae-8277-e3da86baf0cc",
   "metadata": {},
   "outputs": [
    {
     "data": {
      "text/plain": [
       "' 1|2|42'"
      ]
     },
     "execution_count": 16,
     "metadata": {},
     "output_type": "execute_result"
    }
   ],
   "source": [
    "side_by_side(1, b=2)  # default"
   ]
  },
  {
   "cell_type": "code",
   "execution_count": 17,
   "id": "114f4c29-3eff-4110-a2a2-15de0f1d9084",
   "metadata": {},
   "outputs": [
    {
     "data": {
      "text/plain": [
       "' 1|2|42'"
      ]
     },
     "execution_count": 17,
     "metadata": {},
     "output_type": "execute_result"
    }
   ],
   "source": [
    "# Other permutations of the three styles\n",
    "\n",
    "side_by_side(1, 2)           # Two positional, 1 default\n",
    "## ' 1| 2| 42'\n",
    "side_by_side(1, 2, 3)        # Three positional\n",
    "## ' 1| 2| 3'\n",
    "side_by_side(a=1, b=2)       # Two keyword, 1 default\n",
    "## ' 1| 2| 42'\n",
    "side_by_side(c=3, b=1, a=2)  # Three keyword\n",
    "## ' 2| 1| 3'\n",
    "side_by_side(1, c=3, b=2)    # One positional, 2 keyword\n",
    "## ' 1| 2| 3'\n",
    "side_by_side(1, b=2)         # One positional, 1 keyword, 1 default\n",
    "## ' 1| 2| 42'"
   ]
  },
  {
   "cell_type": "code",
   "execution_count": 18,
   "id": "349bba11-688d-4690-81ff-2cbd8b479928",
   "metadata": {},
   "outputs": [
    {
     "ename": "SyntaxError",
     "evalue": "positional argument follows keyword argument (3855048630.py, line 3)",
     "output_type": "error",
     "traceback": [
      "\u001b[0;36m  Cell \u001b[0;32mIn[18], line 3\u001b[0;36m\u001b[0m\n\u001b[0;31m    side_by_side(a=2, 1)      # Won't work.\u001b[0m\n\u001b[0m                       ^\u001b[0m\n\u001b[0;31mSyntaxError\u001b[0m\u001b[0;31m:\u001b[0m positional argument follows keyword argument\n"
     ]
    }
   ],
   "source": [
    "# Keywords cannot be followed \n",
    "# by positional arguments\n",
    "side_by_side(a=2, 1)      # Won't work. Returns SyntaxError                  "
   ]
  },
  {
   "attachments": {},
   "cell_type": "markdown",
   "id": "f32f98ed",
   "metadata": {},
   "source": [
    "## 2.2 Docstrings"
   ]
  },
  {
   "cell_type": "markdown",
   "id": "c74ac567-0769-4e5e-8b8e-1940ecf87a43",
   "metadata": {},
   "source": [
    "This documentation (i.e., the docstring) is displayed when we ask Python to show us the help info using help(). Docstrings allow us to document what a function does inside the function. "
   ]
  },
  {
   "cell_type": "code",
   "execution_count": 19,
   "id": "13d5635c-a774-4166-99ca-63bc9d44745a",
   "metadata": {},
   "outputs": [],
   "source": [
    "def side_by_side(a, b, c=42):\n",
    "    \"\"\"\n",
    "    A test function to demonstrate how \n",
    "    positional, keyword and default arguments \n",
    "    work.\n",
    "    \"\"\"\n",
    "    return f'{a: 2d}|{b: 2d}|{c: 2d}'"
   ]
  },
  {
   "cell_type": "code",
   "execution_count": 20,
   "id": "02e6fde3-92a1-4d28-b9bf-2fa351347f37",
   "metadata": {},
   "outputs": [
    {
     "name": "stdout",
     "output_type": "stream",
     "text": [
      "Help on function side_by_side in module __main__:\n",
      "\n",
      "side_by_side(a, b, c=42)\n",
      "    A test function to demonstrate how \n",
      "    positional, keyword and default arguments \n",
      "    work.\n",
      "\n"
     ]
    }
   ],
   "source": [
    "help(side_by_side)"
   ]
  },
  {
   "cell_type": "markdown",
   "id": "3b860f58-e61c-4f94-8231-5bc22a004e3f",
   "metadata": {},
   "source": [
    "Can also be used for writing multiline comments, but it is frowned upon. PEP8 favours using consecutive single-line comments."
   ]
  },
  {
   "attachments": {},
   "cell_type": "markdown",
   "id": "a9d96a0a",
   "metadata": {},
   "source": [
    "## 2.3 Function are first-class citizens"
   ]
  },
  {
   "cell_type": "markdown",
   "id": "e0ec09e1-e23e-4b5c-a995-3738675ef7da",
   "metadata": {},
   "source": [
    "Python functions are called <span style=\"color: orange;\">first-class citizens</span> because they have the same privileges as variables. This opens up useful possibilities for scientific programming because we can **pass a function as an argument to another function!**"
   ]
  },
  {
   "cell_type": "code",
   "execution_count": 22,
   "id": "dd3d7edd-93b3-4fbe-881a-2593bbafb91f",
   "metadata": {},
   "outputs": [],
   "source": [
    "import numpy as np"
   ]
  },
  {
   "cell_type": "code",
   "execution_count": 23,
   "id": "bddde736-8981-40b2-8076-7604bf029bfa",
   "metadata": {},
   "outputs": [
    {
     "data": {
      "text/plain": [
       "-1.0"
      ]
     },
     "execution_count": 23,
     "metadata": {},
     "output_type": "execute_result"
    }
   ],
   "source": [
    "def my_function(angle, trig_function):\n",
    "        return trig_function(angle)\n",
    "\n",
    "# Let's use the function\n",
    "my_function(np.pi/2, np.sin)        \n",
    "## 1.0\n",
    "my_function(np.pi/2, np.cos)        \n",
    "## 6.123233995736766e-17\n",
    "my_function(np.pi/2, lambda x: np.cos(2*x))  \n",
    "## -1.0"
   ]
  },
  {
   "cell_type": "markdown",
   "id": "10899b8b-cb56-4e9b-b15b-58e762e9a51d",
   "metadata": {},
   "source": [
    "Note that parenthesis () are not included when passing a function as an argument"
   ]
  },
  {
   "attachments": {},
   "cell_type": "markdown",
   "id": "933c53d0",
   "metadata": {},
   "source": [
    "## 2.4 More about unpacking"
   ]
  },
  {
   "cell_type": "code",
   "execution_count": 26,
   "id": "da7d4107-b25d-4344-a92d-c66103837ddf",
   "metadata": {},
   "outputs": [
    {
     "data": {
      "text/plain": [
       "(1, 2, 3)"
      ]
     },
     "execution_count": 26,
     "metadata": {},
     "output_type": "execute_result"
    }
   ],
   "source": [
    "x, y, z = [1, 2, 3]\n",
    "x, y, z"
   ]
  },
  {
   "cell_type": "code",
   "execution_count": 27,
   "id": "5f0136cd-7f3d-4033-824b-b6347fcdd2b4",
   "metadata": {},
   "outputs": [
    {
     "data": {
      "text/plain": [
       "(1, 2, 3)"
      ]
     },
     "execution_count": 27,
     "metadata": {},
     "output_type": "execute_result"
    }
   ],
   "source": [
    "x, y, z = np.array([1, 2, 3])\n",
    "x, y, z"
   ]
  },
  {
   "cell_type": "code",
   "execution_count": 25,
   "id": "33ba69d2-5bbe-4260-8d1e-67ae47516133",
   "metadata": {},
   "outputs": [
    {
     "data": {
      "text/plain": [
       "(1, [2, 3, 4], 5)"
      ]
     },
     "execution_count": 25,
     "metadata": {},
     "output_type": "execute_result"
    }
   ],
   "source": [
    "x, *y, z = np.array([1, 2, 3, 4, 5])  # y is assigned all the values between x and z \n",
    "x, y, z"
   ]
  },
  {
   "cell_type": "code",
   "execution_count": 28,
   "id": "bc1aafd3-1ece-40f4-82c2-c4eb79938999",
   "metadata": {},
   "outputs": [
    {
     "data": {
      "text/plain": [
       "(1, 5)"
      ]
     },
     "execution_count": 28,
     "metadata": {},
     "output_type": "execute_result"
    }
   ],
   "source": [
    "x, *_, y = [1, 2, 3, 4, 5]  # _ is used as a throwaway variabler\n",
    "x, y"
   ]
  }
 ],
 "metadata": {
  "kernelspec": {
   "display_name": "Python 3 (ipykernel)",
   "language": "python",
   "name": "python3"
  },
  "language_info": {
   "codemirror_mode": {
    "name": "ipython",
    "version": 3
   },
   "file_extension": ".py",
   "mimetype": "text/x-python",
   "name": "python",
   "nbconvert_exporter": "python",
   "pygments_lexer": "ipython3",
   "version": "3.10.11"
  },
  "toc": {
   "base_numbering": 1,
   "nav_menu": {},
   "number_sections": true,
   "sideBar": true,
   "skip_h1_title": false,
   "title_cell": "Table of Contents",
   "title_sidebar": "Contents",
   "toc_cell": false,
   "toc_position": {},
   "toc_section_display": true,
   "toc_window_display": false
  },
  "vscode": {
   "interpreter": {
    "hash": "31f2aee4e71d21fbe5cf8b01ff0e069b9275f58929596ceb00d14d90e3e16cd6"
   }
  }
 },
 "nbformat": 4,
 "nbformat_minor": 5
}
