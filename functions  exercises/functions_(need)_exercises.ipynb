{
 "cells": [
  {
   "attachments": {},
   "cell_type": "markdown",
   "id": "123456",
   "metadata": {},
   "source": [
    "<div style=\"text-align:left;font-size:2em\"><span style=\"font-weight:bolder;font-size:1.25em\">SP2273 | Learning Portfolio</span><br><br><span style=\"font-weight:bold;color:darkred\">Functions (Need) Exercises</span></div>"
   ]
  },
  {
   "cell_type": "markdown",
   "id": "de4da0d3-c7ca-4226-9716-3a3925b115f2",
   "metadata": {},
   "source": [
    "# Exercise 1 "
   ]
  },
  {
   "cell_type": "code",
   "execution_count": 2,
   "id": "4f3b248c-1f7b-41ca-b304-d45cf7e85f26",
   "metadata": {},
   "outputs": [
    {
     "data": {
      "text/plain": [
       "'Hello jin!'"
      ]
     },
     "execution_count": 2,
     "metadata": {},
     "output_type": "execute_result"
    }
   ],
   "source": [
    "def greeting(name):\n",
    "    if name == 'Batman':\n",
    "        return 'Hello Batman! So, nice to meet you!'\n",
    "    return f'Hello {name}!'\n",
    "\n",
    "greeting('jin')"
   ]
  },
  {
   "cell_type": "markdown",
   "id": "e8c9677b-8608-44f5-84de-5babc7a8c556",
   "metadata": {},
   "source": [
    "Why does the following code work, despite not having an else statement?\n",
    "- print(greeting('name'))\n",
    "- the return statement is the last thing that is executed by the Python interpreter before exiting the function block. Thus, if name == 'Batman', 'Hello name!' will not be returned."
   ]
  },
  {
   "cell_type": "markdown",
   "id": "fdf4a766-aa7a-4545-9928-ba9d2702238d",
   "metadata": {},
   "source": [
    "# Exercise 2 "
   ]
  },
  {
   "cell_type": "code",
   "execution_count": 2,
   "id": "a26ae483-88cb-49b9-821a-16da939bda97",
   "metadata": {},
   "outputs": [],
   "source": [
    "def calculate_bmi(weight, height):\n",
    "  \"\"\"\n",
    "  Takes in a person's weight (in kg) and height (in m) and returns the category they belong to\n",
    "  \"\"\"\n",
    "  bmi = weight / (height ** 2)\n",
    "  if bmi < 18.5:\n",
    "    return 'Category: Underweight'\n",
    "  elif 18.5 <= bmi <= 24.9:\n",
    "    return 'Category: Normal weight'\n",
    "  elif 25 <= bmi <= 29.9:\n",
    "    return 'Category: Overweight'\n",
    "  elif bmi >= 30:\n",
    "    return 'Category: Obesity'"
   ]
  }
 ],
 "metadata": {
  "kernelspec": {
   "display_name": "Python 3 (ipykernel)",
   "language": "python",
   "name": "python3"
  },
  "language_info": {
   "codemirror_mode": {
    "name": "ipython",
    "version": 3
   },
   "file_extension": ".py",
   "mimetype": "text/x-python",
   "name": "python",
   "nbconvert_exporter": "python",
   "pygments_lexer": "ipython3",
   "version": "3.10.11"
  },
  "toc": {
   "base_numbering": 1,
   "nav_menu": {},
   "number_sections": true,
   "sideBar": true,
   "skip_h1_title": false,
   "title_cell": "Table of Contents",
   "title_sidebar": "Contents",
   "toc_cell": false,
   "toc_position": {},
   "toc_section_display": true,
   "toc_window_display": false
  },
  "vscode": {
   "interpreter": {
    "hash": "31f2aee4e71d21fbe5cf8b01ff0e069b9275f58929596ceb00d14d90e3e16cd6"
   }
  }
 },
 "nbformat": 4,
 "nbformat_minor": 5
}
