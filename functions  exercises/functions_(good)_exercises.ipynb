{
 "cells": [
  {
   "attachments": {},
   "cell_type": "markdown",
   "id": "123456",
   "metadata": {},
   "source": [
    "<div style=\"text-align:left;font-size:2em\"><span style=\"font-weight:bolder;font-size:1.25em\">SP2273 | Learning Portfolio</span><br><br><span style=\"font-weight:bold;color:darkred\">Functions (Good) Exercises</span></div>"
   ]
  },
  {
   "cell_type": "markdown",
   "id": "542d81de-7966-4d28-a5e2-5e9c12655f99",
   "metadata": {},
   "source": [
    "# Exercise 1"
   ]
  },
  {
   "cell_type": "code",
   "execution_count": 7,
   "id": "85f58bef-9e24-4865-b336-81352c7bbac0",
   "metadata": {},
   "outputs": [],
   "source": [
    "def convert_celsius(temperature_celsius, target_scale):\n",
    "  \"\"\"\n",
    "  Converts temperatures from Celsius to Fahrenheit or Kelvin.\n",
    "\n",
    "  Args:\n",
    "    temperature_celsius: temperature in Celsius (float or int)\n",
    "    target_scale: target scale for conversion (string)\n",
    "\n",
    "  Returns:\n",
    "    the temperature in the target scale (float)\n",
    "  \"\"\"\n",
    "  if target_scale.lower() == 'kelvin':\n",
    "    return temperature_celsius + 273.15\n",
    "  else:\n",
    "    return temperature_celsius * 1.8 + 32"
   ]
  },
  {
   "cell_type": "markdown",
   "id": "9a3392a9-4fc7-4ea4-9813-a9ea076c8c18",
   "metadata": {},
   "source": [
    "# Exercise 2"
   ]
  },
  {
   "cell_type": "code",
   "execution_count": 8,
   "id": "e9ac7b76-8212-4995-8692-c90725b586c2",
   "metadata": {},
   "outputs": [],
   "source": [
    "def convert_fahrenheit(temperature_fahrenheit, target_scale='Celsius'):\n",
    "  \"\"\"\n",
    "  Converts temperatures from Fahrenheit to Celsius or Kelvin.\n",
    "  \"\"\"\n",
    "  if target_scale.lower() == 'kelvin': # f to c to k\n",
    "    return (temperature_fahrenheit - 32) * (5/9) + 273.15\n",
    "  else: \n",
    "    return (temperature_fahrenheit - 32) * (5/9)"
   ]
  },
  {
   "cell_type": "code",
   "execution_count": 9,
   "id": "c8e34cb9-8b3d-411d-b194-05ac895be8d2",
   "metadata": {},
   "outputs": [
    {
     "data": {
      "text/plain": [
       "273.15"
      ]
     },
     "execution_count": 9,
     "metadata": {},
     "output_type": "execute_result"
    }
   ],
   "source": [
    "convert_fahrenheit(32, 'Kelvin')"
   ]
  },
  {
   "cell_type": "markdown",
   "id": "dfafb29e-4751-4e29-9ac5-676f242c6ad7",
   "metadata": {},
   "source": [
    "# Exercise 3"
   ]
  },
  {
   "cell_type": "code",
   "execution_count": 24,
   "id": "105d67b5-91dd-4049-9aad-d3d284382b0f",
   "metadata": {},
   "outputs": [],
   "source": [
    "def convert_kelvin(temperature_kelvin, target_scale):\n",
    "  \"\"\"\n",
    "  Converts temperatures in Kelvin to Celsius or Fahrenheit.\n",
    "  \"\"\"\n",
    "  if target_scale.lower() == 'celsius':\n",
    "    return temperature_kelvin - 273.15\n",
    "  else:\n",
    "    return (temperature_kelvin - 273.15) * 1.8 + 32\n",
    "  "
   ]
  },
  {
   "cell_type": "code",
   "execution_count": 25,
   "id": "538343a8-8cbd-4c88-ac23-a2c821ba3328",
   "metadata": {},
   "outputs": [
    {
     "data": {
      "text/plain": [
       "-459.66999999999996"
      ]
     },
     "execution_count": 25,
     "metadata": {},
     "output_type": "execute_result"
    }
   ],
   "source": [
    "convert_kelvin(0, 'fahrenheit')"
   ]
  },
  {
   "cell_type": "code",
   "execution_count": 32,
   "id": "d2116bd5-432a-450d-b24c-f6f24e0b65e0",
   "metadata": {},
   "outputs": [],
   "source": [
    "def convert_temperature(temperature, source_scale, target_scale):\n",
    "  \"\"\"\n",
    "  Performs general temperature conversions with Celsius, Fahrenheit or Kelvin.\n",
    "  \"\"\"\n",
    "  if source_scale.lower() == 'celsius':\n",
    "    return convert_celsius(temperature, target_scale)\n",
    "  elif source_scale.lower() == 'fahrenheit':\n",
    "    return convert_fahrenheit(temperature, target_scale)\n",
    "  else:\n",
    "    return convert_kelvin(temperature, target_scale)"
   ]
  },
  {
   "cell_type": "code",
   "execution_count": 31,
   "id": "60681d23-6c59-4996-bed0-99f342564217",
   "metadata": {},
   "outputs": [
    {
     "data": {
      "text/plain": [
       "273.15"
      ]
     },
     "execution_count": 31,
     "metadata": {},
     "output_type": "execute_result"
    }
   ],
   "source": [
    "convert_temperature(0, 'celsius', 'kelvin')"
   ]
  }
 ],
 "metadata": {
  "kernelspec": {
   "display_name": "Python 3 (ipykernel)",
   "language": "python",
   "name": "python3"
  },
  "language_info": {
   "codemirror_mode": {
    "name": "ipython",
    "version": 3
   },
   "file_extension": ".py",
   "mimetype": "text/x-python",
   "name": "python",
   "nbconvert_exporter": "python",
   "pygments_lexer": "ipython3",
   "version": "3.10.11"
  },
  "toc": {
   "base_numbering": 1,
   "nav_menu": {},
   "number_sections": true,
   "sideBar": true,
   "skip_h1_title": false,
   "title_cell": "Table of Contents",
   "title_sidebar": "Contents",
   "toc_cell": false,
   "toc_position": {},
   "toc_section_display": true,
   "toc_window_display": false
  },
  "vscode": {
   "interpreter": {
    "hash": "31f2aee4e71d21fbe5cf8b01ff0e069b9275f58929596ceb00d14d90e3e16cd6"
   }
  }
 },
 "nbformat": 4,
 "nbformat_minor": 5
}
