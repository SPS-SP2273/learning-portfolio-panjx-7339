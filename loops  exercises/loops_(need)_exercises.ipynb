{
 "cells": [
  {
   "attachments": {},
   "cell_type": "markdown",
   "id": "123456",
   "metadata": {},
   "source": [
    "<div style=\"text-align:left;font-size:2em\"><span style=\"font-weight:bolder;font-size:1.25em\">SP2273 | Learning Portfolio</span><br><br><span style=\"font-weight:bold;color:darkred\">Loops (Need) Exercises</span></div>"
   ]
  },
  {
   "cell_type": "markdown",
   "id": "b52681f5",
   "metadata": {},
   "source": [
    "# Exercise 1 (Celsius to Fahrenheit)"
   ]
  },
  {
   "cell_type": "code",
   "execution_count": 17,
   "id": "5e9fb122",
   "metadata": {},
   "outputs": [],
   "source": [
    "def celsius_to_fahrenheit(num):\n",
    "    return num * 1.8 + 32"
   ]
  },
  {
   "cell_type": "code",
   "execution_count": 18,
   "id": "57fdd87d-e457-4f13-9392-72798bfa2376",
   "metadata": {},
   "outputs": [
    {
     "data": {
      "text/plain": [
       "65.30000000000001"
      ]
     },
     "execution_count": 18,
     "metadata": {},
     "output_type": "execute_result"
    }
   ],
   "source": [
    "celsius_to_fahrenheit(18.5)"
   ]
  },
  {
   "cell_type": "code",
   "execution_count": 49,
   "id": "027d92a7",
   "metadata": {},
   "outputs": [],
   "source": [
    "temperatures_celsius = [\n",
    "    0, 5, 10, 15, 20, 25,\n",
    "    30, 35, 40, 45, 50\n",
    "]"
   ]
  },
  {
   "cell_type": "code",
   "execution_count": 50,
   "id": "3e9d1cb4",
   "metadata": {},
   "outputs": [
    {
     "name": "stdout",
     "output_type": "stream",
     "text": [
      "0°C, 32°F\n",
      "5°C, 37°F\n",
      "10°C, 42°F\n",
      "15°C, 47°F\n",
      "20°C, 52°F\n",
      "25°C, 57°F\n",
      "30°C, 62°F\n",
      "35°C, 67°F\n",
      "40°C, 72°F\n",
      "45°C, 77°F\n",
      "50°C, 82°F\n"
     ]
    }
   ],
   "source": [
    "for c in temperatures_celsius:\n",
    "    f = celsius_to_fahrenheit(c)\n",
    "    print(f\"{c}°C, {f}°F\")"
   ]
  },
  {
   "cell_type": "markdown",
   "id": "527d4f2a",
   "metadata": {},
   "source": [
    "# Exercise 2 (Multiplication Table)"
   ]
  },
  {
   "cell_type": "code",
   "execution_count": 51,
   "id": "64a9e827",
   "metadata": {},
   "outputs": [
    {
     "name": "stdout",
     "output_type": "stream",
     "text": [
      "A1\tA2\tA3\t\n",
      "\n",
      "B1\tB2\tB3\t\n",
      "\n",
      "C1\tC2\tC3\t\n",
      "\n"
     ]
    }
   ],
   "source": [
    "# Example of nested for loops\n",
    "for letter in ['A', 'B', 'C']:\n",
    "    for number in [1, 2, 3]:\n",
    "        print(f'{letter}{number}', end='\\t')\n",
    "    print('\\n')"
   ]
  },
  {
   "cell_type": "code",
   "execution_count": 38,
   "id": "080e67e4",
   "metadata": {},
   "outputs": [
    {
     "name": "stdout",
     "output_type": "stream",
     "text": [
      "1 : 1   2   3   4   5   \n",
      "2 : 2   4   6   8   10  \n",
      "3 : 3   6   9   12  15  \n",
      "4 : 4   8   12  16  20  \n",
      "5 : 5   10  15  20  25  \n"
     ]
    }
   ],
   "source": [
    "list_of_nums = [1, 2, 3, 4, 5]\n",
    "for i in list_of_nums:\n",
    "    print(f'{i} :', end=' ')\n",
    "    for j in list_of_nums:\n",
    "        print(f'{i * j:<3}', end=' ')\n",
    "    print()"
   ]
  },
  {
   "cell_type": "code",
   "execution_count": 64,
   "id": "3944ca69-cc4c-4f00-8600-6b92faa9c02b",
   "metadata": {},
   "outputs": [
    {
     "name": "stdout",
     "output_type": "stream",
     "text": [
      "1 : 1   2   3   4   5   \n",
      "2 : 2   4   6   8   10  \n",
      "3 : 3   6   9   12  15  \n",
      "4 : 4   8   12  16  20  \n",
      "5 : 5   10  15  20  25\n"
     ]
    }
   ],
   "source": [
    "print('''1 : 1   2   3   4   5   \n",
    "2 : 2   4   6   8   10  \n",
    "3 : 3   6   9   12  15  \n",
    "4 : 4   8   12  16  20  \n",
    "5 : 5   10  15  20  25''')"
   ]
  },
  {
   "cell_type": "code",
   "execution_count": 47,
   "id": "d5275008-950a-41f3-9597-30bf9bcc2b19",
   "metadata": {},
   "outputs": [
    {
     "name": "stdout",
     "output_type": "stream",
     "text": [
      "1 :   1\t 2\t 3\t 4\t 5\t\n",
      "2 :   2\t 4\t 6\t 8\t10\t\n",
      "3 :   3\t 6\t 9\t12\t15\t\n",
      "4 :   4\t 8\t12\t16\t20\t\n",
      "5 :   5\t10\t15\t20\t25\t\n"
     ]
    }
   ],
   "source": [
    "list_of_nums = [1, 2, 3, 4, 5]\n",
    "for i in list_of_nums:\n",
    "    print(f'{i} : ', end=' ')\n",
    "    for j in list_of_nums:\n",
    "        print(f'{i * j:2}', end='\\t')\n",
    "    print()"
   ]
  }
 ],
 "metadata": {
  "kernelspec": {
   "display_name": "Python 3 (ipykernel)",
   "language": "python",
   "name": "python3"
  },
  "language_info": {
   "codemirror_mode": {
    "name": "ipython",
    "version": 3
   },
   "file_extension": ".py",
   "mimetype": "text/x-python",
   "name": "python",
   "nbconvert_exporter": "python",
   "pygments_lexer": "ipython3",
   "version": "3.10.11"
  },
  "toc": {
   "base_numbering": 1,
   "nav_menu": {},
   "number_sections": true,
   "sideBar": true,
   "skip_h1_title": false,
   "title_cell": "Table of Contents",
   "title_sidebar": "Contents",
   "toc_cell": false,
   "toc_position": {},
   "toc_section_display": true,
   "toc_window_display": false
  },
  "vscode": {
   "interpreter": {
    "hash": "31f2aee4e71d21fbe5cf8b01ff0e069b9275f58929596ceb00d14d90e3e16cd6"
   }
  }
 },
 "nbformat": 4,
 "nbformat_minor": 5
}
